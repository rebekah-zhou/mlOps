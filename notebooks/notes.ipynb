{
 "cells": [
  {
   "cell_type": "markdown",
   "metadata": {},
   "source": [
    "# mlOps\n",
    "\n",
    "## What this Course will entail\n",
    "- Requirements gathering and system design\n",
    "- experiment tracking\n",
    "- registering artifacts\n",
    "- data versioning and quality\n",
    "- orchestration\n",
    "- infrastructure as code\n",
    "- CI/CD/CT\n",
    "- model serving\n",
    "- model and operational monitoring\n",
    "\n",
    "### MLOps Pipeline/Lifecycle\n",
    "- business problem -> data -> model dev -> model deployment -> monitoring\n"
   ]
  },
  {
   "cell_type": "markdown",
   "metadata": {},
   "source": [
    "## Experiment Tracking\n"
   ]
  }
 ],
 "metadata": {
  "language_info": {
   "name": "python"
  }
 },
 "nbformat": 4,
 "nbformat_minor": 2
}
