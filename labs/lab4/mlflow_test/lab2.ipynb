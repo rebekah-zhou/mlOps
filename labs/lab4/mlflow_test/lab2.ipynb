{
 "cells": [
  {
   "cell_type": "code",
   "execution_count": 1,
   "metadata": {},
   "outputs": [],
   "source": [
    "import mlflow\n",
    "import pandas as pd\n",
    "import numpy as np\n",
    "from sklearn.tree import DecisionTreeClassifier\n",
    "from sklearn.metrics import accuracy_score"
   ]
  },
  {
   "cell_type": "code",
   "execution_count": 2,
   "metadata": {},
   "outputs": [
    {
     "data": {
      "text/html": [
       "<div>\n",
       "<style scoped>\n",
       "    .dataframe tbody tr th:only-of-type {\n",
       "        vertical-align: middle;\n",
       "    }\n",
       "\n",
       "    .dataframe tbody tr th {\n",
       "        vertical-align: top;\n",
       "    }\n",
       "\n",
       "    .dataframe thead th {\n",
       "        text-align: right;\n",
       "    }\n",
       "</style>\n",
       "<table border=\"1\" class=\"dataframe\">\n",
       "  <thead>\n",
       "    <tr style=\"text-align: right;\">\n",
       "      <th></th>\n",
       "      <th>business_id</th>\n",
       "      <th>name</th>\n",
       "      <th>address</th>\n",
       "      <th>city</th>\n",
       "      <th>state</th>\n",
       "      <th>postal_code</th>\n",
       "      <th>latitude</th>\n",
       "      <th>longitude</th>\n",
       "      <th>stars</th>\n",
       "      <th>review_count</th>\n",
       "      <th>is_open</th>\n",
       "      <th>attributes</th>\n",
       "      <th>categories</th>\n",
       "      <th>hours</th>\n",
       "    </tr>\n",
       "  </thead>\n",
       "  <tbody>\n",
       "    <tr>\n",
       "      <th>0</th>\n",
       "      <td>Pns2l4eNsfO8kk83dixA6A</td>\n",
       "      <td>Abby Rappoport, LAC, CMQ</td>\n",
       "      <td>1616 Chapala St, Ste 2</td>\n",
       "      <td>Santa Barbara</td>\n",
       "      <td>CA</td>\n",
       "      <td>93101</td>\n",
       "      <td>34.426679</td>\n",
       "      <td>-119.711197</td>\n",
       "      <td>5.0</td>\n",
       "      <td>7</td>\n",
       "      <td>0</td>\n",
       "      <td>{'ByAppointmentOnly': 'True'}</td>\n",
       "      <td>Doctors, Traditional Chinese Medicine, Naturop...</td>\n",
       "      <td>None</td>\n",
       "    </tr>\n",
       "    <tr>\n",
       "      <th>1</th>\n",
       "      <td>mpf3x-BjTdTEA3yCZrAYPw</td>\n",
       "      <td>The UPS Store</td>\n",
       "      <td>87 Grasso Plaza Shopping Center</td>\n",
       "      <td>Affton</td>\n",
       "      <td>MO</td>\n",
       "      <td>63123</td>\n",
       "      <td>38.551126</td>\n",
       "      <td>-90.335695</td>\n",
       "      <td>3.0</td>\n",
       "      <td>15</td>\n",
       "      <td>1</td>\n",
       "      <td>{'BusinessAcceptsCreditCards': 'True'}</td>\n",
       "      <td>Shipping Centers, Local Services, Notaries, Ma...</td>\n",
       "      <td>{'Monday': '0:0-0:0', 'Tuesday': '8:0-18:30', ...</td>\n",
       "    </tr>\n",
       "    <tr>\n",
       "      <th>2</th>\n",
       "      <td>tUFrWirKiKi_TAnsVWINQQ</td>\n",
       "      <td>Target</td>\n",
       "      <td>5255 E Broadway Blvd</td>\n",
       "      <td>Tucson</td>\n",
       "      <td>AZ</td>\n",
       "      <td>85711</td>\n",
       "      <td>32.223236</td>\n",
       "      <td>-110.880452</td>\n",
       "      <td>3.5</td>\n",
       "      <td>22</td>\n",
       "      <td>0</td>\n",
       "      <td>{'BikeParking': 'True', 'BusinessAcceptsCredit...</td>\n",
       "      <td>Department Stores, Shopping, Fashion, Home &amp; G...</td>\n",
       "      <td>{'Monday': '8:0-22:0', 'Tuesday': '8:0-22:0', ...</td>\n",
       "    </tr>\n",
       "    <tr>\n",
       "      <th>3</th>\n",
       "      <td>MTSW4McQd7CbVtyjqoe9mw</td>\n",
       "      <td>St Honore Pastries</td>\n",
       "      <td>935 Race St</td>\n",
       "      <td>Philadelphia</td>\n",
       "      <td>PA</td>\n",
       "      <td>19107</td>\n",
       "      <td>39.955505</td>\n",
       "      <td>-75.155564</td>\n",
       "      <td>4.0</td>\n",
       "      <td>80</td>\n",
       "      <td>1</td>\n",
       "      <td>{'RestaurantsDelivery': 'False', 'OutdoorSeati...</td>\n",
       "      <td>Restaurants, Food, Bubble Tea, Coffee &amp; Tea, B...</td>\n",
       "      <td>{'Monday': '7:0-20:0', 'Tuesday': '7:0-20:0', ...</td>\n",
       "    </tr>\n",
       "    <tr>\n",
       "      <th>4</th>\n",
       "      <td>mWMc6_wTdE0EUBKIGXDVfA</td>\n",
       "      <td>Perkiomen Valley Brewery</td>\n",
       "      <td>101 Walnut St</td>\n",
       "      <td>Green Lane</td>\n",
       "      <td>PA</td>\n",
       "      <td>18054</td>\n",
       "      <td>40.338183</td>\n",
       "      <td>-75.471659</td>\n",
       "      <td>4.5</td>\n",
       "      <td>13</td>\n",
       "      <td>1</td>\n",
       "      <td>{'BusinessAcceptsCreditCards': 'True', 'Wheelc...</td>\n",
       "      <td>Brewpubs, Breweries, Food</td>\n",
       "      <td>{'Wednesday': '14:0-22:0', 'Thursday': '16:0-2...</td>\n",
       "    </tr>\n",
       "  </tbody>\n",
       "</table>\n",
       "</div>"
      ],
      "text/plain": [
       "              business_id                      name  \\\n",
       "0  Pns2l4eNsfO8kk83dixA6A  Abby Rappoport, LAC, CMQ   \n",
       "1  mpf3x-BjTdTEA3yCZrAYPw             The UPS Store   \n",
       "2  tUFrWirKiKi_TAnsVWINQQ                    Target   \n",
       "3  MTSW4McQd7CbVtyjqoe9mw        St Honore Pastries   \n",
       "4  mWMc6_wTdE0EUBKIGXDVfA  Perkiomen Valley Brewery   \n",
       "\n",
       "                           address           city state postal_code  \\\n",
       "0           1616 Chapala St, Ste 2  Santa Barbara    CA       93101   \n",
       "1  87 Grasso Plaza Shopping Center         Affton    MO       63123   \n",
       "2             5255 E Broadway Blvd         Tucson    AZ       85711   \n",
       "3                      935 Race St   Philadelphia    PA       19107   \n",
       "4                    101 Walnut St     Green Lane    PA       18054   \n",
       "\n",
       "    latitude   longitude  stars  review_count  is_open  \\\n",
       "0  34.426679 -119.711197    5.0             7        0   \n",
       "1  38.551126  -90.335695    3.0            15        1   \n",
       "2  32.223236 -110.880452    3.5            22        0   \n",
       "3  39.955505  -75.155564    4.0            80        1   \n",
       "4  40.338183  -75.471659    4.5            13        1   \n",
       "\n",
       "                                          attributes  \\\n",
       "0                      {'ByAppointmentOnly': 'True'}   \n",
       "1             {'BusinessAcceptsCreditCards': 'True'}   \n",
       "2  {'BikeParking': 'True', 'BusinessAcceptsCredit...   \n",
       "3  {'RestaurantsDelivery': 'False', 'OutdoorSeati...   \n",
       "4  {'BusinessAcceptsCreditCards': 'True', 'Wheelc...   \n",
       "\n",
       "                                          categories  \\\n",
       "0  Doctors, Traditional Chinese Medicine, Naturop...   \n",
       "1  Shipping Centers, Local Services, Notaries, Ma...   \n",
       "2  Department Stores, Shopping, Fashion, Home & G...   \n",
       "3  Restaurants, Food, Bubble Tea, Coffee & Tea, B...   \n",
       "4                          Brewpubs, Breweries, Food   \n",
       "\n",
       "                                               hours  \n",
       "0                                               None  \n",
       "1  {'Monday': '0:0-0:0', 'Tuesday': '8:0-18:30', ...  \n",
       "2  {'Monday': '8:0-22:0', 'Tuesday': '8:0-22:0', ...  \n",
       "3  {'Monday': '7:0-20:0', 'Tuesday': '7:0-20:0', ...  \n",
       "4  {'Wednesday': '14:0-22:0', 'Thursday': '16:0-2...  "
      ]
     },
     "execution_count": 2,
     "metadata": {},
     "output_type": "execute_result"
    }
   ],
   "source": [
    "business = pd.read_json(\"/Users/rebekahzhou/Downloads/Yelp JSON/yelp_dataset/yelp_academic_dataset_business.json\", lines=True)\n",
    "business.head()"
   ]
  },
  {
   "cell_type": "code",
   "execution_count": 3,
   "metadata": {},
   "outputs": [
    {
     "data": {
      "text/html": [
       "<div>\n",
       "<style scoped>\n",
       "    .dataframe tbody tr th:only-of-type {\n",
       "        vertical-align: middle;\n",
       "    }\n",
       "\n",
       "    .dataframe tbody tr th {\n",
       "        vertical-align: top;\n",
       "    }\n",
       "\n",
       "    .dataframe thead th {\n",
       "        text-align: right;\n",
       "    }\n",
       "</style>\n",
       "<table border=\"1\" class=\"dataframe\">\n",
       "  <thead>\n",
       "    <tr style=\"text-align: right;\">\n",
       "      <th></th>\n",
       "      <th>business_id</th>\n",
       "      <th>name</th>\n",
       "      <th>address</th>\n",
       "      <th>city</th>\n",
       "      <th>state</th>\n",
       "      <th>postal_code</th>\n",
       "      <th>latitude</th>\n",
       "      <th>longitude</th>\n",
       "      <th>stars</th>\n",
       "      <th>review_count</th>\n",
       "      <th>is_open</th>\n",
       "      <th>attributes</th>\n",
       "      <th>categories</th>\n",
       "      <th>hours</th>\n",
       "    </tr>\n",
       "  </thead>\n",
       "  <tbody>\n",
       "    <tr>\n",
       "      <th>3</th>\n",
       "      <td>MTSW4McQd7CbVtyjqoe9mw</td>\n",
       "      <td>St Honore Pastries</td>\n",
       "      <td>935 Race St</td>\n",
       "      <td>Philadelphia</td>\n",
       "      <td>PA</td>\n",
       "      <td>19107</td>\n",
       "      <td>39.955505</td>\n",
       "      <td>-75.155564</td>\n",
       "      <td>4.0</td>\n",
       "      <td>80</td>\n",
       "      <td>1</td>\n",
       "      <td>{'RestaurantsDelivery': 'False', 'OutdoorSeati...</td>\n",
       "      <td>Restaurants, Food, Bubble Tea, Coffee &amp; Tea, B...</td>\n",
       "      <td>{'Monday': '7:0-20:0', 'Tuesday': '7:0-20:0', ...</td>\n",
       "    </tr>\n",
       "    <tr>\n",
       "      <th>555</th>\n",
       "      <td>bdfZdB2MTXlT6-RBjSIpQg</td>\n",
       "      <td>Pho Bistro</td>\n",
       "      <td>903 Embarcadero Del Norte</td>\n",
       "      <td>Isla Vista</td>\n",
       "      <td>CA</td>\n",
       "      <td>93117</td>\n",
       "      <td>34.412934</td>\n",
       "      <td>-119.855531</td>\n",
       "      <td>3.0</td>\n",
       "      <td>184</td>\n",
       "      <td>1</td>\n",
       "      <td>{'RestaurantsDelivery': 'True', 'BikeParking':...</td>\n",
       "      <td>Food, Restaurants, Chinese, Bubble Tea, Vietna...</td>\n",
       "      <td>{'Monday': '11:0-22:0', 'Tuesday': '11:0-22:0'...</td>\n",
       "    </tr>\n",
       "    <tr>\n",
       "      <th>663</th>\n",
       "      <td>epGYbd0_OeSxsSkw-Kx5Rg</td>\n",
       "      <td>Hippie Hi</td>\n",
       "      <td>1814 Drew St</td>\n",
       "      <td>Clearwater</td>\n",
       "      <td>FL</td>\n",
       "      <td>33764</td>\n",
       "      <td>27.968452</td>\n",
       "      <td>-82.762159</td>\n",
       "      <td>4.0</td>\n",
       "      <td>16</td>\n",
       "      <td>0</td>\n",
       "      <td>{'HasTV': 'True', 'RestaurantsReservations': '...</td>\n",
       "      <td>Vegan, Gluten-Free, Restaurants, Bubble Tea, S...</td>\n",
       "      <td>{'Monday': '10:0-20:0', 'Tuesday': '10:0-20:0'...</td>\n",
       "    </tr>\n",
       "    <tr>\n",
       "      <th>1447</th>\n",
       "      <td>i9eMSNpOA8BfHGZrM-9sZg</td>\n",
       "      <td>Kung Fu Tea</td>\n",
       "      <td>1469 Brace Rd</td>\n",
       "      <td>Cherry Hill</td>\n",
       "      <td>NJ</td>\n",
       "      <td>08034</td>\n",
       "      <td>39.889260</td>\n",
       "      <td>-75.015852</td>\n",
       "      <td>4.5</td>\n",
       "      <td>10</td>\n",
       "      <td>1</td>\n",
       "      <td>{'WiFi': 'u'free'', 'RestaurantsTakeOut': 'True'}</td>\n",
       "      <td>Bubble Tea, Juice Bars &amp; Smoothies, Food, Coff...</td>\n",
       "      <td>{'Monday': '10:0-21:0', 'Tuesday': '10:0-21:0'...</td>\n",
       "    </tr>\n",
       "    <tr>\n",
       "      <th>1874</th>\n",
       "      <td>-3-6BB10tIWNKGEF0Es2BA</td>\n",
       "      <td>The 81 Hong Kong Cafe</td>\n",
       "      <td>625 E Wetmore Rd, Ste 109</td>\n",
       "      <td>Tucson</td>\n",
       "      <td>AZ</td>\n",
       "      <td>85705</td>\n",
       "      <td>32.288540</td>\n",
       "      <td>-110.963144</td>\n",
       "      <td>4.0</td>\n",
       "      <td>133</td>\n",
       "      <td>1</td>\n",
       "      <td>{'Alcohol': 'u'none'', 'DogsAllowed': 'False',...</td>\n",
       "      <td>Coffee &amp; Tea, Asian Fusion, Food, Bubble Tea, ...</td>\n",
       "      <td>{'Monday': '0:0-0:0', 'Wednesday': '10:0-21:0'...</td>\n",
       "    </tr>\n",
       "  </tbody>\n",
       "</table>\n",
       "</div>"
      ],
      "text/plain": [
       "                 business_id                   name  \\\n",
       "3     MTSW4McQd7CbVtyjqoe9mw     St Honore Pastries   \n",
       "555   bdfZdB2MTXlT6-RBjSIpQg             Pho Bistro   \n",
       "663   epGYbd0_OeSxsSkw-Kx5Rg              Hippie Hi   \n",
       "1447  i9eMSNpOA8BfHGZrM-9sZg            Kung Fu Tea   \n",
       "1874  -3-6BB10tIWNKGEF0Es2BA  The 81 Hong Kong Cafe   \n",
       "\n",
       "                        address          city state postal_code   latitude  \\\n",
       "3                   935 Race St  Philadelphia    PA       19107  39.955505   \n",
       "555   903 Embarcadero Del Norte    Isla Vista    CA       93117  34.412934   \n",
       "663                1814 Drew St    Clearwater    FL       33764  27.968452   \n",
       "1447              1469 Brace Rd   Cherry Hill    NJ       08034  39.889260   \n",
       "1874  625 E Wetmore Rd, Ste 109        Tucson    AZ       85705  32.288540   \n",
       "\n",
       "       longitude  stars  review_count  is_open  \\\n",
       "3     -75.155564    4.0            80        1   \n",
       "555  -119.855531    3.0           184        1   \n",
       "663   -82.762159    4.0            16        0   \n",
       "1447  -75.015852    4.5            10        1   \n",
       "1874 -110.963144    4.0           133        1   \n",
       "\n",
       "                                             attributes  \\\n",
       "3     {'RestaurantsDelivery': 'False', 'OutdoorSeati...   \n",
       "555   {'RestaurantsDelivery': 'True', 'BikeParking':...   \n",
       "663   {'HasTV': 'True', 'RestaurantsReservations': '...   \n",
       "1447  {'WiFi': 'u'free'', 'RestaurantsTakeOut': 'True'}   \n",
       "1874  {'Alcohol': 'u'none'', 'DogsAllowed': 'False',...   \n",
       "\n",
       "                                             categories  \\\n",
       "3     Restaurants, Food, Bubble Tea, Coffee & Tea, B...   \n",
       "555   Food, Restaurants, Chinese, Bubble Tea, Vietna...   \n",
       "663   Vegan, Gluten-Free, Restaurants, Bubble Tea, S...   \n",
       "1447  Bubble Tea, Juice Bars & Smoothies, Food, Coff...   \n",
       "1874  Coffee & Tea, Asian Fusion, Food, Bubble Tea, ...   \n",
       "\n",
       "                                                  hours  \n",
       "3     {'Monday': '7:0-20:0', 'Tuesday': '7:0-20:0', ...  \n",
       "555   {'Monday': '11:0-22:0', 'Tuesday': '11:0-22:0'...  \n",
       "663   {'Monday': '10:0-20:0', 'Tuesday': '10:0-20:0'...  \n",
       "1447  {'Monday': '10:0-21:0', 'Tuesday': '10:0-21:0'...  \n",
       "1874  {'Monday': '0:0-0:0', 'Wednesday': '10:0-21:0'...  "
      ]
     },
     "execution_count": 3,
     "metadata": {},
     "output_type": "execute_result"
    }
   ],
   "source": [
    "boba = business[business['categories'].str.contains('Bubble Tea', case=False, na=False)]\n",
    "boba.head()"
   ]
  },
  {
   "cell_type": "code",
   "execution_count": 4,
   "metadata": {},
   "outputs": [
    {
     "data": {
      "text/plain": [
       "3    {'Monday': '7:0-20:0', 'Tuesday': '7:0-20:0', ...\n",
       "Name: hours, dtype: object"
      ]
     },
     "execution_count": 4,
     "metadata": {},
     "output_type": "execute_result"
    }
   ],
   "source": [
    "boba.head(1).hours"
   ]
  },
  {
   "cell_type": "code",
   "execution_count": 5,
   "metadata": {},
   "outputs": [
    {
     "name": "stderr",
     "output_type": "stream",
     "text": [
      "/var/folders/_l/3hppw5yx6713b6p1n23s7gcc0000gn/T/ipykernel_36155/3586092106.py:23: SettingWithCopyWarning: \n",
      "A value is trying to be set on a copy of a slice from a DataFrame.\n",
      "Try using .loc[row_indexer,col_indexer] = value instead\n",
      "\n",
      "See the caveats in the documentation: https://pandas.pydata.org/pandas-docs/stable/user_guide/indexing.html#returning-a-view-versus-a-copy\n",
      "  boba['total_hours_per_week'] = boba['hours'].apply(total_hours_open)\n"
     ]
    }
   ],
   "source": [
    "def total_hours_open(hours_dict):\n",
    "    total = 0\n",
    "    if not isinstance(hours_dict, dict):\n",
    "        return 0  # skip if it's None or not a dict\n",
    "    for time in hours_dict.values():\n",
    "        try:\n",
    "            open_time, close_time = time.split('-')\n",
    "            open_hour, open_min = map(int, open_time.split(':'))\n",
    "            close_hour, close_min = map(int, close_time.split(':'))\n",
    "\n",
    "            open_minutes = open_hour * 60 + open_min\n",
    "            close_minutes = close_hour * 60 + close_min\n",
    "\n",
    "            # Handle overnight hours (e.g., 22:00-2:00)\n",
    "            if close_minutes < open_minutes:\n",
    "                close_minutes += 24 * 60\n",
    "\n",
    "            total += (close_minutes - open_minutes) / 60\n",
    "        except:\n",
    "            continue\n",
    "    return total\n",
    "\n",
    "boba['total_hours_per_week'] = boba['hours'].apply(total_hours_open)"
   ]
  },
  {
   "cell_type": "code",
   "execution_count": 6,
   "metadata": {},
   "outputs": [
    {
     "name": "stderr",
     "output_type": "stream",
     "text": [
      "/var/folders/_l/3hppw5yx6713b6p1n23s7gcc0000gn/T/ipykernel_36155/3336259327.py:17: SettingWithCopyWarning: \n",
      "A value is trying to be set on a copy of a slice from a DataFrame.\n",
      "Try using .loc[row_indexer,col_indexer] = value instead\n",
      "\n",
      "See the caveats in the documentation: https://pandas.pydata.org/pandas-docs/stable/user_guide/indexing.html#returning-a-view-versus-a-copy\n",
      "  boba['latest_close_hour'] = boba['hours'].apply(latest_closing_time)\n"
     ]
    }
   ],
   "source": [
    "def latest_closing_time(hours_dict):\n",
    "    latest = 0\n",
    "    if not isinstance(hours_dict, dict):\n",
    "        return None\n",
    "    for time in hours_dict.values():\n",
    "        try:\n",
    "            close_hour, close_min = map(int, time.split('-')[1].split(':'))\n",
    "            minutes = close_hour * 60 + close_min\n",
    "            if minutes < 5 * 60:  # Treat closing times like 2:00am as next-day\n",
    "                minutes += 24 * 60\n",
    "            if minutes > latest:\n",
    "                latest = minutes\n",
    "        except:\n",
    "            continue\n",
    "    return latest / 60 if latest > 0 else None\n",
    "\n",
    "boba['latest_close_hour'] = boba['hours'].apply(latest_closing_time)"
   ]
  },
  {
   "cell_type": "code",
   "execution_count": 7,
   "metadata": {},
   "outputs": [
    {
     "name": "stderr",
     "output_type": "stream",
     "text": [
      "/var/folders/_l/3hppw5yx6713b6p1n23s7gcc0000gn/T/ipykernel_36155/179727427.py:1: SettingWithCopyWarning: \n",
      "A value is trying to be set on a copy of a slice from a DataFrame.\n",
      "Try using .loc[row_indexer,col_indexer] = value instead\n",
      "\n",
      "See the caveats in the documentation: https://pandas.pydata.org/pandas-docs/stable/user_guide/indexing.html#returning-a-view-versus-a-copy\n",
      "  boba['open_7_days'] = boba['hours'].apply(lambda x: int(isinstance(x, dict) and len(x) == 7))\n"
     ]
    }
   ],
   "source": [
    "boba['open_7_days'] = boba['hours'].apply(lambda x: int(isinstance(x, dict) and len(x) == 7))"
   ]
  },
  {
   "cell_type": "code",
   "execution_count": 8,
   "metadata": {},
   "outputs": [
    {
     "name": "stderr",
     "output_type": "stream",
     "text": [
      "/var/folders/_l/3hppw5yx6713b6p1n23s7gcc0000gn/T/ipykernel_36155/3947722182.py:6: SettingWithCopyWarning: \n",
      "A value is trying to be set on a copy of a slice from a DataFrame.\n",
      "Try using .loc[row_indexer,col_indexer] = value instead\n",
      "\n",
      "See the caveats in the documentation: https://pandas.pydata.org/pandas-docs/stable/user_guide/indexing.html#returning-a-view-versus-a-copy\n",
      "  boba['open_weekends'] = boba['hours'].apply(is_open_weekends)\n"
     ]
    }
   ],
   "source": [
    "def is_open_weekends(hours_dict):\n",
    "    if not isinstance(hours_dict, dict):\n",
    "        return 0\n",
    "    return int('Saturday' in hours_dict and 'Sunday' in hours_dict)\n",
    "\n",
    "boba['open_weekends'] = boba['hours'].apply(is_open_weekends)"
   ]
  },
  {
   "cell_type": "code",
   "execution_count": 9,
   "metadata": {},
   "outputs": [
    {
     "name": "stderr",
     "output_type": "stream",
     "text": [
      "/var/folders/_l/3hppw5yx6713b6p1n23s7gcc0000gn/T/ipykernel_36155/3133260717.py:5: SettingWithCopyWarning: \n",
      "A value is trying to be set on a copy of a slice from a DataFrame.\n",
      "Try using .loc[row_indexer,col_indexer] = value instead\n",
      "\n",
      "See the caveats in the documentation: https://pandas.pydata.org/pandas-docs/stable/user_guide/indexing.html#returning-a-view-versus-a-copy\n",
      "  boba[col_name] = boba['hours'].apply(lambda x: int(isinstance(x, dict) and day in x))\n",
      "/var/folders/_l/3hppw5yx6713b6p1n23s7gcc0000gn/T/ipykernel_36155/3133260717.py:5: SettingWithCopyWarning: \n",
      "A value is trying to be set on a copy of a slice from a DataFrame.\n",
      "Try using .loc[row_indexer,col_indexer] = value instead\n",
      "\n",
      "See the caveats in the documentation: https://pandas.pydata.org/pandas-docs/stable/user_guide/indexing.html#returning-a-view-versus-a-copy\n",
      "  boba[col_name] = boba['hours'].apply(lambda x: int(isinstance(x, dict) and day in x))\n",
      "/var/folders/_l/3hppw5yx6713b6p1n23s7gcc0000gn/T/ipykernel_36155/3133260717.py:5: SettingWithCopyWarning: \n",
      "A value is trying to be set on a copy of a slice from a DataFrame.\n",
      "Try using .loc[row_indexer,col_indexer] = value instead\n",
      "\n",
      "See the caveats in the documentation: https://pandas.pydata.org/pandas-docs/stable/user_guide/indexing.html#returning-a-view-versus-a-copy\n",
      "  boba[col_name] = boba['hours'].apply(lambda x: int(isinstance(x, dict) and day in x))\n",
      "/var/folders/_l/3hppw5yx6713b6p1n23s7gcc0000gn/T/ipykernel_36155/3133260717.py:5: SettingWithCopyWarning: \n",
      "A value is trying to be set on a copy of a slice from a DataFrame.\n",
      "Try using .loc[row_indexer,col_indexer] = value instead\n",
      "\n",
      "See the caveats in the documentation: https://pandas.pydata.org/pandas-docs/stable/user_guide/indexing.html#returning-a-view-versus-a-copy\n",
      "  boba[col_name] = boba['hours'].apply(lambda x: int(isinstance(x, dict) and day in x))\n",
      "/var/folders/_l/3hppw5yx6713b6p1n23s7gcc0000gn/T/ipykernel_36155/3133260717.py:5: SettingWithCopyWarning: \n",
      "A value is trying to be set on a copy of a slice from a DataFrame.\n",
      "Try using .loc[row_indexer,col_indexer] = value instead\n",
      "\n",
      "See the caveats in the documentation: https://pandas.pydata.org/pandas-docs/stable/user_guide/indexing.html#returning-a-view-versus-a-copy\n",
      "  boba[col_name] = boba['hours'].apply(lambda x: int(isinstance(x, dict) and day in x))\n",
      "/var/folders/_l/3hppw5yx6713b6p1n23s7gcc0000gn/T/ipykernel_36155/3133260717.py:5: SettingWithCopyWarning: \n",
      "A value is trying to be set on a copy of a slice from a DataFrame.\n",
      "Try using .loc[row_indexer,col_indexer] = value instead\n",
      "\n",
      "See the caveats in the documentation: https://pandas.pydata.org/pandas-docs/stable/user_guide/indexing.html#returning-a-view-versus-a-copy\n",
      "  boba[col_name] = boba['hours'].apply(lambda x: int(isinstance(x, dict) and day in x))\n",
      "/var/folders/_l/3hppw5yx6713b6p1n23s7gcc0000gn/T/ipykernel_36155/3133260717.py:5: SettingWithCopyWarning: \n",
      "A value is trying to be set on a copy of a slice from a DataFrame.\n",
      "Try using .loc[row_indexer,col_indexer] = value instead\n",
      "\n",
      "See the caveats in the documentation: https://pandas.pydata.org/pandas-docs/stable/user_guide/indexing.html#returning-a-view-versus-a-copy\n",
      "  boba[col_name] = boba['hours'].apply(lambda x: int(isinstance(x, dict) and day in x))\n"
     ]
    }
   ],
   "source": [
    "days = ['Monday', 'Tuesday', 'Wednesday', 'Thursday', 'Friday', 'Saturday', 'Sunday']\n",
    "\n",
    "for day in days:\n",
    "    col_name = f'open_{day.lower()}'\n",
    "    boba[col_name] = boba['hours'].apply(lambda x: int(isinstance(x, dict) and day in x))\n"
   ]
  },
  {
   "cell_type": "code",
   "execution_count": 10,
   "metadata": {},
   "outputs": [],
   "source": [
    "numerical_features = [\n",
    "    'total_hours_per_week',\n",
    "    'stars',\n",
    "    'review_count',\n",
    "    'latest_close_hour'\n",
    "]\n",
    "\n",
    "categorical_features = [\n",
    "    'open_weekends',\n",
    "    'open_7_days',\n",
    "    'open_monday',\n",
    "    'open_tuesday',\n",
    "    'open_wednesday',\n",
    "    'open_thursday',\n",
    "    'open_friday',\n",
    "    'open_saturday',\n",
    "    'open_sunday'\n",
    "]"
   ]
  },
  {
   "cell_type": "code",
   "execution_count": 11,
   "metadata": {},
   "outputs": [
    {
     "name": "stdout",
     "output_type": "stream",
     "text": [
      "<class 'pandas.core.frame.DataFrame'>\n",
      "Index: 477 entries, 3 to 150261\n",
      "Data columns (total 4 columns):\n",
      " #   Column                Non-Null Count  Dtype  \n",
      "---  ------                --------------  -----  \n",
      " 0   total_hours_per_week  477 non-null    float64\n",
      " 1   stars                 477 non-null    float64\n",
      " 2   review_count          477 non-null    int64  \n",
      " 3   latest_close_hour     435 non-null    float64\n",
      "dtypes: float64(3), int64(1)\n",
      "memory usage: 18.6 KB\n"
     ]
    }
   ],
   "source": [
    "boba[numerical_features].info()"
   ]
  },
  {
   "cell_type": "code",
   "execution_count": 12,
   "metadata": {},
   "outputs": [
    {
     "name": "stderr",
     "output_type": "stream",
     "text": [
      "/var/folders/_l/3hppw5yx6713b6p1n23s7gcc0000gn/T/ipykernel_36155/1178305934.py:1: SettingWithCopyWarning: \n",
      "A value is trying to be set on a copy of a slice from a DataFrame.\n",
      "Try using .loc[row_indexer,col_indexer] = value instead\n",
      "\n",
      "See the caveats in the documentation: https://pandas.pydata.org/pandas-docs/stable/user_guide/indexing.html#returning-a-view-versus-a-copy\n",
      "  boba['latest_close_hour'] = boba.latest_close_hour.fillna(0)\n"
     ]
    },
    {
     "data": {
      "text/plain": [
       "3         21.0\n",
       "555       22.0\n",
       "663       20.0\n",
       "1447      21.0\n",
       "1874      24.0\n",
       "          ... \n",
       "148099     0.0\n",
       "149093    24.0\n",
       "149269     0.0\n",
       "149614    23.0\n",
       "150261     0.0\n",
       "Name: latest_close_hour, Length: 477, dtype: float64"
      ]
     },
     "execution_count": 12,
     "metadata": {},
     "output_type": "execute_result"
    }
   ],
   "source": [
    "boba['latest_close_hour'] = boba.latest_close_hour.fillna(0)\n",
    "boba['latest_close_hour']"
   ]
  },
  {
   "cell_type": "code",
   "execution_count": 13,
   "metadata": {},
   "outputs": [
    {
     "data": {
      "text/plain": [
       "0"
      ]
     },
     "execution_count": 13,
     "metadata": {},
     "output_type": "execute_result"
    }
   ],
   "source": [
    "boba[numerical_features].isna().sum().sum()"
   ]
  },
  {
   "cell_type": "code",
   "execution_count": 14,
   "metadata": {},
   "outputs": [
    {
     "name": "stdout",
     "output_type": "stream",
     "text": [
      "<class 'pandas.core.frame.DataFrame'>\n",
      "Index: 477 entries, 3 to 150261\n",
      "Data columns (total 9 columns):\n",
      " #   Column          Non-Null Count  Dtype\n",
      "---  ------          --------------  -----\n",
      " 0   open_weekends   477 non-null    int64\n",
      " 1   open_7_days     477 non-null    int64\n",
      " 2   open_monday     477 non-null    int64\n",
      " 3   open_tuesday    477 non-null    int64\n",
      " 4   open_wednesday  477 non-null    int64\n",
      " 5   open_thursday   477 non-null    int64\n",
      " 6   open_friday     477 non-null    int64\n",
      " 7   open_saturday   477 non-null    int64\n",
      " 8   open_sunday     477 non-null    int64\n",
      "dtypes: int64(9)\n",
      "memory usage: 37.3 KB\n"
     ]
    }
   ],
   "source": [
    "boba[categorical_features].info()"
   ]
  },
  {
   "cell_type": "code",
   "execution_count": 15,
   "metadata": {},
   "outputs": [
    {
     "data": {
      "text/plain": [
       "477"
      ]
     },
     "execution_count": 15,
     "metadata": {},
     "output_type": "execute_result"
    }
   ],
   "source": [
    "boba['is_open'].count()"
   ]
  },
  {
   "cell_type": "code",
   "execution_count": 16,
   "metadata": {},
   "outputs": [
    {
     "name": "stderr",
     "output_type": "stream",
     "text": [
      "2025/04/17 13:30:02 INFO mlflow.tracking.fluent: Experiment with name 'yelp-lab-2' does not exist. Creating a new experiment.\n"
     ]
    },
    {
     "data": {
      "text/plain": [
       "<Experiment: artifact_location='mlflow-artifacts:/1', creation_time=1744921802693, experiment_id='1', last_update_time=1744921802693, lifecycle_stage='active', name='yelp-lab-2', tags={}>"
      ]
     },
     "execution_count": 16,
     "metadata": {},
     "output_type": "execute_result"
    }
   ],
   "source": [
    "mlflow.set_tracking_uri('https://mlops-lab4-262317540491.us-west2.run.app')\n",
    "mlflow.set_experiment('yelp-lab-2')"
   ]
  },
  {
   "cell_type": "code",
   "execution_count": 17,
   "metadata": {},
   "outputs": [
    {
     "data": {
      "text/plain": [
       "0.8050314465408805"
      ]
     },
     "execution_count": 17,
     "metadata": {},
     "output_type": "execute_result"
    }
   ],
   "source": [
    "y = boba.is_open\n",
    "X = boba[numerical_features + categorical_features]\n",
    "dt = DecisionTreeClassifier(max_depth=4)\n",
    "dt.fit(X, y)\n",
    "accuracy_score(y, dt.predict(X))"
   ]
  },
  {
   "cell_type": "code",
   "execution_count": 18,
   "metadata": {},
   "outputs": [
    {
     "name": "stderr",
     "output_type": "stream",
     "text": [
      "2025/04/17 13:30:03 INFO mlflow.tracking._tracking_service.client: 🏃 View run melodic-kit-494 at: https://mlops-lab4-262317540491.us-west2.run.app/#/experiments/1/runs/a26636b17cb64b10a6741220a1d63ea6.\n",
      "2025/04/17 13:30:03 INFO mlflow.tracking._tracking_service.client: 🧪 View experiment at: https://mlops-lab4-262317540491.us-west2.run.app/#/experiments/1.\n"
     ]
    }
   ],
   "source": [
    "with mlflow.start_run():\n",
    "    # log parameters and log metrics\n",
    "    # parameters: hyperparameters\n",
    "    # metrics: model performance metrics\n",
    "\n",
    "    mlflow.set_tags({\"Model\":\"decision-tree\", \"Train Data\": \"all-data\"})\n",
    "\n",
    "    tree_depth = 5\n",
    "    dt = DecisionTreeClassifier(max_depth=tree_depth)\n",
    "    dt.fit(X, y)\n",
    "    acc = accuracy_score(y, dt.predict(X))\n",
    "\n",
    "    mlflow.log_param(\"max_depth\", tree_depth)\n",
    "    mlflow.log_metric(\"accuracy\", acc)\n",
    "\n",
    "mlflow.end_run()"
   ]
  },
  {
   "cell_type": "code",
   "execution_count": 19,
   "metadata": {},
   "outputs": [
    {
     "name": "stderr",
     "output_type": "stream",
     "text": [
      "2025/04/17 13:30:04 INFO mlflow.tracking._tracking_service.client: 🏃 View run bustling-skunk-656 at: https://mlops-lab4-262317540491.us-west2.run.app/#/experiments/1/runs/a1e1d25c13de485f97c2d6391411a395.\n",
      "2025/04/17 13:30:04 INFO mlflow.tracking._tracking_service.client: 🧪 View experiment at: https://mlops-lab4-262317540491.us-west2.run.app/#/experiments/1.\n"
     ]
    }
   ],
   "source": [
    "from sklearn.ensemble import RandomForestClassifier\n",
    "\n",
    "with mlflow.start_run():\n",
    "    mlflow.set_tags({\"Model\":\"random-forest\", \"Train Data\": \"all-data\"})\n",
    "\n",
    "    ntree = 1000\n",
    "    mtry = 4\n",
    "\n",
    "    mlflow.log_params({'n_estimators':ntree, 'max_features':mtry})\n",
    "\n",
    "    rf = RandomForestClassifier(n_estimators = ntree, max_features = mtry, oob_score = True)\n",
    "    rf.fit(X,y)\n",
    "    acc = rf.oob_score_\n",
    "    #acc = accuracy_score(y, rf.predict(X))\n",
    "    mlflow.log_metric('accuracy', acc)\n",
    "\n",
    "mlflow.end_run()"
   ]
  },
  {
   "cell_type": "code",
   "execution_count": 20,
   "metadata": {},
   "outputs": [
    {
     "name": "stderr",
     "output_type": "stream",
     "text": [
      "2025/04/17 13:30:04 INFO mlflow.tracking._tracking_service.client: 🏃 View run bold-stork-601 at: https://mlops-lab4-262317540491.us-west2.run.app/#/experiments/1/runs/6703983e43c04a5083085975f63ce013.\n",
      "2025/04/17 13:30:04 INFO mlflow.tracking._tracking_service.client: 🧪 View experiment at: https://mlops-lab4-262317540491.us-west2.run.app/#/experiments/1.\n",
      "2025/04/17 13:30:05 INFO mlflow.tracking._tracking_service.client: 🏃 View run thoughtful-rat-14 at: https://mlops-lab4-262317540491.us-west2.run.app/#/experiments/1/runs/08764ccf4ac44525b579367b958a3262.\n",
      "2025/04/17 13:30:05 INFO mlflow.tracking._tracking_service.client: 🧪 View experiment at: https://mlops-lab4-262317540491.us-west2.run.app/#/experiments/1.\n",
      "2025/04/17 13:30:05 INFO mlflow.tracking._tracking_service.client: 🏃 View run painted-cow-486 at: https://mlops-lab4-262317540491.us-west2.run.app/#/experiments/1/runs/9e700336ddd64c279901d14bbe22c619.\n",
      "2025/04/17 13:30:05 INFO mlflow.tracking._tracking_service.client: 🧪 View experiment at: https://mlops-lab4-262317540491.us-west2.run.app/#/experiments/1.\n",
      "2025/04/17 13:30:07 INFO mlflow.tracking._tracking_service.client: 🏃 View run polite-roo-652 at: https://mlops-lab4-262317540491.us-west2.run.app/#/experiments/1/runs/2b4a3f95bf834943a88e0175bca369bb.\n",
      "2025/04/17 13:30:07 INFO mlflow.tracking._tracking_service.client: 🧪 View experiment at: https://mlops-lab4-262317540491.us-west2.run.app/#/experiments/1.\n",
      "2025/04/17 13:30:07 INFO mlflow.tracking._tracking_service.client: 🏃 View run upset-goose-852 at: https://mlops-lab4-262317540491.us-west2.run.app/#/experiments/1/runs/a4b46cb57d1e4c519bfd09fa48030bd7.\n",
      "2025/04/17 13:30:07 INFO mlflow.tracking._tracking_service.client: 🧪 View experiment at: https://mlops-lab4-262317540491.us-west2.run.app/#/experiments/1.\n",
      "2025/04/17 13:30:07 INFO mlflow.tracking._tracking_service.client: 🏃 View run zealous-goat-852 at: https://mlops-lab4-262317540491.us-west2.run.app/#/experiments/1/runs/64e0090e0bc94142b2b2b066ab6ac45d.\n",
      "2025/04/17 13:30:07 INFO mlflow.tracking._tracking_service.client: 🧪 View experiment at: https://mlops-lab4-262317540491.us-west2.run.app/#/experiments/1.\n",
      "2025/04/17 13:30:08 INFO mlflow.tracking._tracking_service.client: 🏃 View run rogue-crab-281 at: https://mlops-lab4-262317540491.us-west2.run.app/#/experiments/1/runs/6b574f41f87e47a5a1bec5c1248c1ed3.\n",
      "2025/04/17 13:30:08 INFO mlflow.tracking._tracking_service.client: 🧪 View experiment at: https://mlops-lab4-262317540491.us-west2.run.app/#/experiments/1.\n",
      "2025/04/17 13:30:08 INFO mlflow.tracking._tracking_service.client: 🏃 View run big-skink-468 at: https://mlops-lab4-262317540491.us-west2.run.app/#/experiments/1/runs/189073a144e94b35be75b84c5a36d73b.\n",
      "2025/04/17 13:30:08 INFO mlflow.tracking._tracking_service.client: 🧪 View experiment at: https://mlops-lab4-262317540491.us-west2.run.app/#/experiments/1.\n",
      "2025/04/17 13:30:09 INFO mlflow.tracking._tracking_service.client: 🏃 View run adorable-penguin-814 at: https://mlops-lab4-262317540491.us-west2.run.app/#/experiments/1/runs/a4f909be7b6049168a4fed82926f3ff1.\n",
      "2025/04/17 13:30:09 INFO mlflow.tracking._tracking_service.client: 🧪 View experiment at: https://mlops-lab4-262317540491.us-west2.run.app/#/experiments/1.\n",
      "2025/04/17 13:30:09 INFO mlflow.tracking._tracking_service.client: 🏃 View run funny-squirrel-687 at: https://mlops-lab4-262317540491.us-west2.run.app/#/experiments/1/runs/64fa2e56ad2749b892ddc4a55104a651.\n",
      "2025/04/17 13:30:09 INFO mlflow.tracking._tracking_service.client: 🧪 View experiment at: https://mlops-lab4-262317540491.us-west2.run.app/#/experiments/1.\n",
      "2025/04/17 13:30:09 INFO mlflow.tracking._tracking_service.client: 🏃 View run trusting-robin-267 at: https://mlops-lab4-262317540491.us-west2.run.app/#/experiments/1/runs/fdaf7f654d764b0e88c70c6a1e894231.\n",
      "2025/04/17 13:30:09 INFO mlflow.tracking._tracking_service.client: 🧪 View experiment at: https://mlops-lab4-262317540491.us-west2.run.app/#/experiments/1.\n",
      "2025/04/17 13:30:10 INFO mlflow.tracking._tracking_service.client: 🏃 View run honorable-grouse-222 at: https://mlops-lab4-262317540491.us-west2.run.app/#/experiments/1/runs/5cdbe0e0b39146a1b7810acf91b0b19e.\n",
      "2025/04/17 13:30:10 INFO mlflow.tracking._tracking_service.client: 🧪 View experiment at: https://mlops-lab4-262317540491.us-west2.run.app/#/experiments/1.\n",
      "2025/04/17 13:30:10 INFO mlflow.tracking._tracking_service.client: 🏃 View run charming-mink-861 at: https://mlops-lab4-262317540491.us-west2.run.app/#/experiments/1/runs/e99f236a57d84073bb72d613f798d47e.\n",
      "2025/04/17 13:30:10 INFO mlflow.tracking._tracking_service.client: 🧪 View experiment at: https://mlops-lab4-262317540491.us-west2.run.app/#/experiments/1.\n",
      "2025/04/17 13:30:11 INFO mlflow.tracking._tracking_service.client: 🏃 View run whimsical-boar-510 at: https://mlops-lab4-262317540491.us-west2.run.app/#/experiments/1/runs/ea0912b2a845468292cbc43b501070c0.\n",
      "2025/04/17 13:30:11 INFO mlflow.tracking._tracking_service.client: 🧪 View experiment at: https://mlops-lab4-262317540491.us-west2.run.app/#/experiments/1.\n",
      "2025/04/17 13:30:11 INFO mlflow.tracking._tracking_service.client: 🏃 View run indecisive-shoat-0 at: https://mlops-lab4-262317540491.us-west2.run.app/#/experiments/1/runs/babb5ca9b775457b929dcc8adaf2279f.\n",
      "2025/04/17 13:30:11 INFO mlflow.tracking._tracking_service.client: 🧪 View experiment at: https://mlops-lab4-262317540491.us-west2.run.app/#/experiments/1.\n"
     ]
    }
   ],
   "source": [
    "ntrees = [20,40,60,80,100]\n",
    "mtrys = [3,4,5]\n",
    "for i in ntrees:\n",
    "    for j in mtrys:\n",
    "        with mlflow.start_run():\n",
    "            mlflow.set_tags({\"Model\":\"random-forest\", \"Train Data\": \"all-data\"})\n",
    "\n",
    "            mlflow.log_params({'n_estimators':i, 'max_features':j})\n",
    "\n",
    "            rf = RandomForestClassifier(n_estimators = i, max_features = j, oob_score = True)\n",
    "            rf.fit(X,y)\n",
    "            acc = rf.oob_score_\n",
    "            #acc = accuracy_score(y, rf.predict(X))\n",
    "            mlflow.log_metric('accuracy', acc)\n",
    "        mlflow.end_run()"
   ]
  },
  {
   "cell_type": "code",
   "execution_count": 21,
   "metadata": {},
   "outputs": [
    {
     "name": "stderr",
     "output_type": "stream",
     "text": [
      "2025/04/17 13:30:11 INFO mlflow.tracking.fluent: Experiment with name 'yelp-lab-2-best-models-final' does not exist. Creating a new experiment.\n"
     ]
    },
    {
     "name": "stdout",
     "output_type": "stream",
     "text": [
      "  0%|          | 0/50 [00:00<?, ?trial/s, best loss=?]"
     ]
    },
    {
     "name": "stderr",
     "output_type": "stream",
     "text": [
      "2025/04/17 13:30:13 INFO mlflow.tracking._tracking_service.client: 🏃 View run secretive-lamb-583 at: https://mlops-lab4-262317540491.us-west2.run.app/#/experiments/2/runs/6523a93f3ee245bb9af3dc727658578f.\n",
      "\n",
      "2025/04/17 13:30:13 INFO mlflow.tracking._tracking_service.client: 🧪 View experiment at: https://mlops-lab4-262317540491.us-west2.run.app/#/experiments/2.\n",
      "\n"
     ]
    },
    {
     "name": "stdout",
     "output_type": "stream",
     "text": [
      "  2%|▏         | 1/50 [00:02<01:41,  2.07s/trial, best loss: -0.7647058823529411]"
     ]
    },
    {
     "name": "stderr",
     "output_type": "stream",
     "text": [
      "2025/04/17 13:30:15 INFO mlflow.tracking._tracking_service.client: 🏃 View run burly-croc-693 at: https://mlops-lab4-262317540491.us-west2.run.app/#/experiments/2/runs/c161d8a6c31941c7a3be9ae602b277c8.\n",
      "\n",
      "2025/04/17 13:30:15 INFO mlflow.tracking._tracking_service.client: 🧪 View experiment at: https://mlops-lab4-262317540491.us-west2.run.app/#/experiments/2.\n",
      "\n"
     ]
    },
    {
     "name": "stdout",
     "output_type": "stream",
     "text": [
      "  4%|▍         | 2/50 [00:03<01:24,  1.76s/trial, best loss: -0.7647058823529411]"
     ]
    },
    {
     "name": "stderr",
     "output_type": "stream",
     "text": [
      "2025/04/17 13:30:16 INFO mlflow.tracking._tracking_service.client: 🏃 View run tasteful-shad-628 at: https://mlops-lab4-262317540491.us-west2.run.app/#/experiments/2/runs/87b80b888d65418da1c028fb4140fbdc.\n",
      "\n",
      "2025/04/17 13:30:16 INFO mlflow.tracking._tracking_service.client: 🧪 View experiment at: https://mlops-lab4-262317540491.us-west2.run.app/#/experiments/2.\n",
      "\n"
     ]
    },
    {
     "name": "stdout",
     "output_type": "stream",
     "text": [
      "  6%|▌         | 3/50 [00:04<01:13,  1.57s/trial, best loss: -0.7647058823529411]"
     ]
    },
    {
     "name": "stderr",
     "output_type": "stream",
     "text": [
      "2025/04/17 13:30:17 INFO mlflow.tracking._tracking_service.client: 🏃 View run beautiful-bird-673 at: https://mlops-lab4-262317540491.us-west2.run.app/#/experiments/2/runs/d0bb2a4fa270463b8ec3eae23018a064.\n",
      "\n",
      "2025/04/17 13:30:17 INFO mlflow.tracking._tracking_service.client: 🧪 View experiment at: https://mlops-lab4-262317540491.us-west2.run.app/#/experiments/2.\n",
      "\n"
     ]
    },
    {
     "name": "stdout",
     "output_type": "stream",
     "text": [
      "  8%|▊         | 4/50 [00:05<01:00,  1.32s/trial, best loss: -0.7647058823529411]"
     ]
    },
    {
     "name": "stderr",
     "output_type": "stream",
     "text": [
      "2025/04/17 13:30:19 INFO mlflow.tracking._tracking_service.client: 🏃 View run clean-ram-805 at: https://mlops-lab4-262317540491.us-west2.run.app/#/experiments/2/runs/7bd22fd657914f098ea72738523700d5.\n",
      "\n",
      "2025/04/17 13:30:19 INFO mlflow.tracking._tracking_service.client: 🧪 View experiment at: https://mlops-lab4-262317540491.us-west2.run.app/#/experiments/2.\n",
      "\n"
     ]
    },
    {
     "name": "stdout",
     "output_type": "stream",
     "text": [
      " 10%|█         | 5/50 [00:07<00:59,  1.32s/trial, best loss: -0.7647058823529411]"
     ]
    },
    {
     "name": "stderr",
     "output_type": "stream",
     "text": [
      "2025/04/17 13:30:21 INFO mlflow.tracking._tracking_service.client: 🏃 View run efficient-finch-431 at: https://mlops-lab4-262317540491.us-west2.run.app/#/experiments/2/runs/90719cf2365e4d1f89b7c73a42c19ff3.\n",
      "\n",
      "2025/04/17 13:30:21 INFO mlflow.tracking._tracking_service.client: 🧪 View experiment at: https://mlops-lab4-262317540491.us-west2.run.app/#/experiments/2.\n",
      "\n"
     ]
    },
    {
     "name": "stdout",
     "output_type": "stream",
     "text": [
      " 12%|█▏        | 6/50 [00:09<01:10,  1.60s/trial, best loss: -0.7647058823529411]"
     ]
    },
    {
     "name": "stderr",
     "output_type": "stream",
     "text": [
      "2025/04/17 13:30:22 INFO mlflow.tracking._tracking_service.client: 🏃 View run selective-jay-318 at: https://mlops-lab4-262317540491.us-west2.run.app/#/experiments/2/runs/f2e10c49375f436e960e2aebb9e08dd3.\n",
      "\n",
      "2025/04/17 13:30:22 INFO mlflow.tracking._tracking_service.client: 🧪 View experiment at: https://mlops-lab4-262317540491.us-west2.run.app/#/experiments/2.\n",
      "\n"
     ]
    },
    {
     "name": "stdout",
     "output_type": "stream",
     "text": [
      " 14%|█▍        | 7/50 [00:11<01:10,  1.64s/trial, best loss: -0.7647058823529411]"
     ]
    },
    {
     "name": "stderr",
     "output_type": "stream",
     "text": [
      "2025/04/17 13:30:24 INFO mlflow.tracking._tracking_service.client: 🏃 View run whimsical-stork-391 at: https://mlops-lab4-262317540491.us-west2.run.app/#/experiments/2/runs/6e74669e249640a687455aa81d1eab7a.\n",
      "\n",
      "2025/04/17 13:30:24 INFO mlflow.tracking._tracking_service.client: 🧪 View experiment at: https://mlops-lab4-262317540491.us-west2.run.app/#/experiments/2.\n",
      "\n"
     ]
    },
    {
     "name": "stdout",
     "output_type": "stream",
     "text": [
      " 16%|█▌        | 8/50 [00:12<01:03,  1.52s/trial, best loss: -0.7647058823529411]"
     ]
    },
    {
     "name": "stderr",
     "output_type": "stream",
     "text": [
      "2025/04/17 13:30:25 INFO mlflow.tracking._tracking_service.client: 🏃 View run loud-hen-788 at: https://mlops-lab4-262317540491.us-west2.run.app/#/experiments/2/runs/13caf47f8b8e46c5a293d5e32a2edf91.\n",
      "\n",
      "2025/04/17 13:30:25 INFO mlflow.tracking._tracking_service.client: 🧪 View experiment at: https://mlops-lab4-262317540491.us-west2.run.app/#/experiments/2.\n",
      "\n"
     ]
    },
    {
     "name": "stdout",
     "output_type": "stream",
     "text": [
      " 18%|█▊        | 9/50 [00:13<00:58,  1.43s/trial, best loss: -0.7647058823529411]"
     ]
    },
    {
     "name": "stderr",
     "output_type": "stream",
     "text": [
      "2025/04/17 13:30:26 INFO mlflow.tracking._tracking_service.client: 🏃 View run blushing-gnat-194 at: https://mlops-lab4-262317540491.us-west2.run.app/#/experiments/2/runs/2a7b0504bf464dd19bbde9204e1500ed.\n",
      "\n",
      "2025/04/17 13:30:26 INFO mlflow.tracking._tracking_service.client: 🧪 View experiment at: https://mlops-lab4-262317540491.us-west2.run.app/#/experiments/2.\n",
      "\n"
     ]
    },
    {
     "name": "stdout",
     "output_type": "stream",
     "text": [
      " 20%|██        | 10/50 [00:14<00:54,  1.35s/trial, best loss: -0.7647058823529411]"
     ]
    },
    {
     "name": "stderr",
     "output_type": "stream",
     "text": [
      "2025/04/17 13:30:27 INFO mlflow.tracking._tracking_service.client: 🏃 View run respected-cow-567 at: https://mlops-lab4-262317540491.us-west2.run.app/#/experiments/2/runs/32c2efc21589474a9ce68ca11f4c44c7.\n",
      "\n",
      "2025/04/17 13:30:27 INFO mlflow.tracking._tracking_service.client: 🧪 View experiment at: https://mlops-lab4-262317540491.us-west2.run.app/#/experiments/2.\n",
      "\n"
     ]
    },
    {
     "name": "stdout",
     "output_type": "stream",
     "text": [
      " 22%|██▏       | 11/50 [00:15<00:48,  1.24s/trial, best loss: -0.7647058823529411]"
     ]
    },
    {
     "name": "stderr",
     "output_type": "stream",
     "text": [
      "2025/04/17 13:30:29 INFO mlflow.tracking._tracking_service.client: 🏃 View run useful-snail-38 at: https://mlops-lab4-262317540491.us-west2.run.app/#/experiments/2/runs/a559bb95c13046678317e7dbe253b1df.\n",
      "\n",
      "2025/04/17 13:30:29 INFO mlflow.tracking._tracking_service.client: 🧪 View experiment at: https://mlops-lab4-262317540491.us-west2.run.app/#/experiments/2.\n",
      "\n"
     ]
    },
    {
     "name": "stdout",
     "output_type": "stream",
     "text": [
      " 24%|██▍       | 12/50 [00:17<00:53,  1.42s/trial, best loss: -0.7647058823529411]"
     ]
    },
    {
     "name": "stderr",
     "output_type": "stream",
     "text": [
      "2025/04/17 13:30:30 INFO mlflow.tracking._tracking_service.client: 🏃 View run serious-goat-251 at: https://mlops-lab4-262317540491.us-west2.run.app/#/experiments/2/runs/9fa3c67e562747f9a27d4328b152821b.\n",
      "\n",
      "2025/04/17 13:30:30 INFO mlflow.tracking._tracking_service.client: 🧪 View experiment at: https://mlops-lab4-262317540491.us-west2.run.app/#/experiments/2.\n",
      "\n"
     ]
    },
    {
     "name": "stdout",
     "output_type": "stream",
     "text": [
      " 26%|██▌       | 13/50 [00:18<00:46,  1.26s/trial, best loss: -0.7675070028011204]"
     ]
    },
    {
     "name": "stderr",
     "output_type": "stream",
     "text": [
      "2025/04/17 13:30:31 INFO mlflow.tracking._tracking_service.client: 🏃 View run dazzling-bird-931 at: https://mlops-lab4-262317540491.us-west2.run.app/#/experiments/2/runs/f0c1ab26689b42a59e2952cd6167683e.\n",
      "\n",
      "2025/04/17 13:30:31 INFO mlflow.tracking._tracking_service.client: 🧪 View experiment at: https://mlops-lab4-262317540491.us-west2.run.app/#/experiments/2.\n",
      "\n"
     ]
    },
    {
     "name": "stdout",
     "output_type": "stream",
     "text": [
      " 28%|██▊       | 14/50 [00:19<00:44,  1.23s/trial, best loss: -0.7675070028011204]"
     ]
    },
    {
     "name": "stderr",
     "output_type": "stream",
     "text": [
      "2025/04/17 13:30:32 INFO mlflow.tracking._tracking_service.client: 🏃 View run grandiose-rook-264 at: https://mlops-lab4-262317540491.us-west2.run.app/#/experiments/2/runs/7bbe86590571497a97c41b82de483a74.\n",
      "\n",
      "2025/04/17 13:30:32 INFO mlflow.tracking._tracking_service.client: 🧪 View experiment at: https://mlops-lab4-262317540491.us-west2.run.app/#/experiments/2.\n",
      "\n"
     ]
    },
    {
     "name": "stdout",
     "output_type": "stream",
     "text": [
      " 30%|███       | 15/50 [00:20<00:38,  1.11s/trial, best loss: -0.7675070028011204]"
     ]
    },
    {
     "name": "stderr",
     "output_type": "stream",
     "text": [
      "2025/04/17 13:30:33 INFO mlflow.tracking._tracking_service.client: 🏃 View run funny-tern-184 at: https://mlops-lab4-262317540491.us-west2.run.app/#/experiments/2/runs/00a93cd3d9e845c2a0fc7453ea4b231a.\n",
      "\n",
      "2025/04/17 13:30:33 INFO mlflow.tracking._tracking_service.client: 🧪 View experiment at: https://mlops-lab4-262317540491.us-west2.run.app/#/experiments/2.\n",
      "\n"
     ]
    },
    {
     "name": "stdout",
     "output_type": "stream",
     "text": [
      " 32%|███▏      | 16/50 [00:21<00:40,  1.20s/trial, best loss: -0.7675070028011204]"
     ]
    },
    {
     "name": "stderr",
     "output_type": "stream",
     "text": [
      "2025/04/17 13:30:35 INFO mlflow.tracking._tracking_service.client: 🏃 View run wise-zebra-107 at: https://mlops-lab4-262317540491.us-west2.run.app/#/experiments/2/runs/dae3ffbdb86448519e720cd86f90e839.\n",
      "\n",
      "2025/04/17 13:30:35 INFO mlflow.tracking._tracking_service.client: 🧪 View experiment at: https://mlops-lab4-262317540491.us-west2.run.app/#/experiments/2.\n",
      "\n"
     ]
    },
    {
     "name": "stdout",
     "output_type": "stream",
     "text": [
      " 34%|███▍      | 17/50 [00:23<00:42,  1.28s/trial, best loss: -0.7675070028011204]"
     ]
    },
    {
     "name": "stderr",
     "output_type": "stream",
     "text": [
      "2025/04/17 13:30:36 INFO mlflow.tracking._tracking_service.client: 🏃 View run nebulous-dove-73 at: https://mlops-lab4-262317540491.us-west2.run.app/#/experiments/2/runs/4b58bec2eec9433587838cd6ebf3c248.\n",
      "\n",
      "2025/04/17 13:30:36 INFO mlflow.tracking._tracking_service.client: 🧪 View experiment at: https://mlops-lab4-262317540491.us-west2.run.app/#/experiments/2.\n",
      "\n"
     ]
    },
    {
     "name": "stdout",
     "output_type": "stream",
     "text": [
      " 36%|███▌      | 18/50 [00:24<00:38,  1.21s/trial, best loss: -0.7675070028011204]"
     ]
    },
    {
     "name": "stderr",
     "output_type": "stream",
     "text": [
      "2025/04/17 13:30:37 INFO mlflow.tracking._tracking_service.client: 🏃 View run bright-bug-801 at: https://mlops-lab4-262317540491.us-west2.run.app/#/experiments/2/runs/9f25cd75bc3a46d2862b97107ee562e1.\n",
      "\n",
      "2025/04/17 13:30:37 INFO mlflow.tracking._tracking_service.client: 🧪 View experiment at: https://mlops-lab4-262317540491.us-west2.run.app/#/experiments/2.\n",
      "\n"
     ]
    },
    {
     "name": "stdout",
     "output_type": "stream",
     "text": [
      " 38%|███▊      | 19/50 [00:25<00:37,  1.21s/trial, best loss: -0.7675070028011204]"
     ]
    },
    {
     "name": "stderr",
     "output_type": "stream",
     "text": [
      "2025/04/17 13:30:38 INFO mlflow.tracking._tracking_service.client: 🏃 View run treasured-mare-629 at: https://mlops-lab4-262317540491.us-west2.run.app/#/experiments/2/runs/c06aa2e11190493c99da924630280a17.\n",
      "\n",
      "2025/04/17 13:30:38 INFO mlflow.tracking._tracking_service.client: 🧪 View experiment at: https://mlops-lab4-262317540491.us-west2.run.app/#/experiments/2.\n",
      "\n"
     ]
    },
    {
     "name": "stdout",
     "output_type": "stream",
     "text": [
      " 40%|████      | 20/50 [00:26<00:36,  1.20s/trial, best loss: -0.7675070028011204]"
     ]
    },
    {
     "name": "stderr",
     "output_type": "stream",
     "text": [
      "2025/04/17 13:30:39 INFO mlflow.tracking._tracking_service.client: 🏃 View run puzzled-vole-961 at: https://mlops-lab4-262317540491.us-west2.run.app/#/experiments/2/runs/caad8c505491415aba5c45807539e2eb.\n",
      "\n",
      "2025/04/17 13:30:39 INFO mlflow.tracking._tracking_service.client: 🧪 View experiment at: https://mlops-lab4-262317540491.us-west2.run.app/#/experiments/2.\n",
      "\n"
     ]
    },
    {
     "name": "stdout",
     "output_type": "stream",
     "text": [
      " 42%|████▏     | 21/50 [00:27<00:32,  1.12s/trial, best loss: -0.7675070028011204]"
     ]
    },
    {
     "name": "stderr",
     "output_type": "stream",
     "text": [
      "2025/04/17 13:30:40 INFO mlflow.tracking._tracking_service.client: 🏃 View run inquisitive-mare-772 at: https://mlops-lab4-262317540491.us-west2.run.app/#/experiments/2/runs/c8dbd294dc144565ae2fc35f8855c872.\n",
      "\n",
      "2025/04/17 13:30:40 INFO mlflow.tracking._tracking_service.client: 🧪 View experiment at: https://mlops-lab4-262317540491.us-west2.run.app/#/experiments/2.\n",
      "\n"
     ]
    },
    {
     "name": "stdout",
     "output_type": "stream",
     "text": [
      " 44%|████▍     | 22/50 [00:28<00:30,  1.09s/trial, best loss: -0.7675070028011204]"
     ]
    },
    {
     "name": "stderr",
     "output_type": "stream",
     "text": [
      "2025/04/17 13:30:41 INFO mlflow.tracking._tracking_service.client: 🏃 View run luminous-fish-922 at: https://mlops-lab4-262317540491.us-west2.run.app/#/experiments/2/runs/7ab0073599794fcc9536a9b33812d9d1.\n",
      "\n",
      "2025/04/17 13:30:41 INFO mlflow.tracking._tracking_service.client: 🧪 View experiment at: https://mlops-lab4-262317540491.us-west2.run.app/#/experiments/2.\n",
      "\n"
     ]
    },
    {
     "name": "stdout",
     "output_type": "stream",
     "text": [
      " 46%|████▌     | 23/50 [00:29<00:30,  1.13s/trial, best loss: -0.7675070028011204]"
     ]
    },
    {
     "name": "stderr",
     "output_type": "stream",
     "text": [
      "2025/04/17 13:30:42 INFO mlflow.tracking._tracking_service.client: 🏃 View run lyrical-squid-378 at: https://mlops-lab4-262317540491.us-west2.run.app/#/experiments/2/runs/bcb7f00fc55c4ff99a3c3af2441386b1.\n",
      "\n",
      "2025/04/17 13:30:42 INFO mlflow.tracking._tracking_service.client: 🧪 View experiment at: https://mlops-lab4-262317540491.us-west2.run.app/#/experiments/2.\n",
      "\n"
     ]
    },
    {
     "name": "stdout",
     "output_type": "stream",
     "text": [
      " 48%|████▊     | 24/50 [00:30<00:27,  1.07s/trial, best loss: -0.7675070028011204]"
     ]
    },
    {
     "name": "stderr",
     "output_type": "stream",
     "text": [
      "2025/04/17 13:30:43 INFO mlflow.tracking._tracking_service.client: 🏃 View run fortunate-mole-338 at: https://mlops-lab4-262317540491.us-west2.run.app/#/experiments/2/runs/3d5e9544aa4d4087a3d25bbfcea60c3b.\n",
      "\n",
      "2025/04/17 13:30:43 INFO mlflow.tracking._tracking_service.client: 🧪 View experiment at: https://mlops-lab4-262317540491.us-west2.run.app/#/experiments/2.\n",
      "\n"
     ]
    },
    {
     "name": "stdout",
     "output_type": "stream",
     "text": [
      " 50%|█████     | 25/50 [00:32<00:27,  1.11s/trial, best loss: -0.7675070028011204]"
     ]
    },
    {
     "name": "stderr",
     "output_type": "stream",
     "text": [
      "2025/04/17 13:30:44 INFO mlflow.tracking._tracking_service.client: 🏃 View run enchanting-hen-487 at: https://mlops-lab4-262317540491.us-west2.run.app/#/experiments/2/runs/71e2371a9e874653bbca6be64521edbe.\n",
      "\n",
      "2025/04/17 13:30:44 INFO mlflow.tracking._tracking_service.client: 🧪 View experiment at: https://mlops-lab4-262317540491.us-west2.run.app/#/experiments/2.\n",
      "\n"
     ]
    },
    {
     "name": "stdout",
     "output_type": "stream",
     "text": [
      " 52%|█████▏    | 26/50 [00:32<00:24,  1.03s/trial, best loss: -0.7675070028011204]"
     ]
    },
    {
     "name": "stderr",
     "output_type": "stream",
     "text": [
      "2025/04/17 13:30:45 INFO mlflow.tracking._tracking_service.client: 🏃 View run lyrical-bird-83 at: https://mlops-lab4-262317540491.us-west2.run.app/#/experiments/2/runs/6389d549b6524a2a8aeef8192e0936fc.\n",
      "\n",
      "2025/04/17 13:30:45 INFO mlflow.tracking._tracking_service.client: 🧪 View experiment at: https://mlops-lab4-262317540491.us-west2.run.app/#/experiments/2.\n",
      "\n"
     ]
    },
    {
     "name": "stdout",
     "output_type": "stream",
     "text": [
      " 54%|█████▍    | 27/50 [00:33<00:23,  1.01s/trial, best loss: -0.7703081232492996]"
     ]
    },
    {
     "name": "stderr",
     "output_type": "stream",
     "text": [
      "2025/04/17 13:30:46 INFO mlflow.tracking._tracking_service.client: 🏃 View run shivering-shrike-114 at: https://mlops-lab4-262317540491.us-west2.run.app/#/experiments/2/runs/c3837bdb219649d190b7bfbbde6ff30c.\n",
      "\n",
      "2025/04/17 13:30:46 INFO mlflow.tracking._tracking_service.client: 🧪 View experiment at: https://mlops-lab4-262317540491.us-west2.run.app/#/experiments/2.\n",
      "\n"
     ]
    },
    {
     "name": "stdout",
     "output_type": "stream",
     "text": [
      " 56%|█████▌    | 28/50 [00:34<00:21,  1.04trial/s, best loss: -0.7703081232492996]"
     ]
    },
    {
     "name": "stderr",
     "output_type": "stream",
     "text": [
      "2025/04/17 13:30:47 INFO mlflow.tracking._tracking_service.client: 🏃 View run learned-midge-605 at: https://mlops-lab4-262317540491.us-west2.run.app/#/experiments/2/runs/cea102fb1c9941e7bbd41c8ee9a66fbb.\n",
      "\n",
      "2025/04/17 13:30:47 INFO mlflow.tracking._tracking_service.client: 🧪 View experiment at: https://mlops-lab4-262317540491.us-west2.run.app/#/experiments/2.\n",
      "\n"
     ]
    },
    {
     "name": "stdout",
     "output_type": "stream",
     "text": [
      " 58%|█████▊    | 29/50 [00:35<00:19,  1.08trial/s, best loss: -0.7703081232492996]"
     ]
    },
    {
     "name": "stderr",
     "output_type": "stream",
     "text": [
      "2025/04/17 13:30:48 INFO mlflow.tracking._tracking_service.client: 🏃 View run aged-bass-369 at: https://mlops-lab4-262317540491.us-west2.run.app/#/experiments/2/runs/3f7b8a5ba62e4584a1aae49b2d28845b.\n",
      "\n",
      "2025/04/17 13:30:48 INFO mlflow.tracking._tracking_service.client: 🧪 View experiment at: https://mlops-lab4-262317540491.us-west2.run.app/#/experiments/2.\n",
      "\n"
     ]
    },
    {
     "name": "stdout",
     "output_type": "stream",
     "text": [
      " 60%|██████    | 30/50 [00:36<00:18,  1.07trial/s, best loss: -0.7703081232492996]"
     ]
    },
    {
     "name": "stderr",
     "output_type": "stream",
     "text": [
      "2025/04/17 13:30:49 INFO mlflow.tracking._tracking_service.client: 🏃 View run painted-yak-922 at: https://mlops-lab4-262317540491.us-west2.run.app/#/experiments/2/runs/f1ec435ba4634aca9acbf71b2c719d10.\n",
      "\n",
      "2025/04/17 13:30:49 INFO mlflow.tracking._tracking_service.client: 🧪 View experiment at: https://mlops-lab4-262317540491.us-west2.run.app/#/experiments/2.\n",
      "\n"
     ]
    },
    {
     "name": "stdout",
     "output_type": "stream",
     "text": [
      " 62%|██████▏   | 31/50 [00:37<00:17,  1.09trial/s, best loss: -0.7703081232492996]"
     ]
    },
    {
     "name": "stderr",
     "output_type": "stream",
     "text": [
      "2025/04/17 13:30:50 INFO mlflow.tracking._tracking_service.client: 🏃 View run welcoming-shrimp-388 at: https://mlops-lab4-262317540491.us-west2.run.app/#/experiments/2/runs/b3ef9439b65d43179c6a13f2a82d6b5f.\n",
      "\n",
      "2025/04/17 13:30:50 INFO mlflow.tracking._tracking_service.client: 🧪 View experiment at: https://mlops-lab4-262317540491.us-west2.run.app/#/experiments/2.\n",
      "\n"
     ]
    },
    {
     "name": "stdout",
     "output_type": "stream",
     "text": [
      " 64%|██████▍   | 32/50 [00:38<00:16,  1.07trial/s, best loss: -0.7703081232492996]"
     ]
    },
    {
     "name": "stderr",
     "output_type": "stream",
     "text": [
      "2025/04/17 13:30:51 INFO mlflow.tracking._tracking_service.client: 🏃 View run mysterious-pig-769 at: https://mlops-lab4-262317540491.us-west2.run.app/#/experiments/2/runs/4c7331c9f2be49deb9c68aa08dc81fc7.\n",
      "\n",
      "2025/04/17 13:30:51 INFO mlflow.tracking._tracking_service.client: 🧪 View experiment at: https://mlops-lab4-262317540491.us-west2.run.app/#/experiments/2.\n",
      "\n"
     ]
    },
    {
     "name": "stdout",
     "output_type": "stream",
     "text": [
      " 66%|██████▌   | 33/50 [00:39<00:16,  1.05trial/s, best loss: -0.7703081232492996]"
     ]
    },
    {
     "name": "stderr",
     "output_type": "stream",
     "text": [
      "2025/04/17 13:30:52 INFO mlflow.tracking._tracking_service.client: 🏃 View run worried-midge-662 at: https://mlops-lab4-262317540491.us-west2.run.app/#/experiments/2/runs/9e2d66bd5f85484eb530c754d917e064.\n",
      "\n",
      "2025/04/17 13:30:52 INFO mlflow.tracking._tracking_service.client: 🧪 View experiment at: https://mlops-lab4-262317540491.us-west2.run.app/#/experiments/2.\n",
      "\n"
     ]
    },
    {
     "name": "stdout",
     "output_type": "stream",
     "text": [
      " 68%|██████▊   | 34/50 [00:40<00:14,  1.07trial/s, best loss: -0.7703081232492996]"
     ]
    },
    {
     "name": "stderr",
     "output_type": "stream",
     "text": [
      "2025/04/17 13:30:53 INFO mlflow.tracking._tracking_service.client: 🏃 View run dashing-whale-122 at: https://mlops-lab4-262317540491.us-west2.run.app/#/experiments/2/runs/cf4b5ca47e5a44ad9c72c3272bd49935.\n",
      "\n",
      "2025/04/17 13:30:53 INFO mlflow.tracking._tracking_service.client: 🧪 View experiment at: https://mlops-lab4-262317540491.us-west2.run.app/#/experiments/2.\n",
      "\n"
     ]
    },
    {
     "name": "stdout",
     "output_type": "stream",
     "text": [
      " 70%|███████   | 35/50 [00:41<00:13,  1.09trial/s, best loss: -0.7703081232492996]"
     ]
    },
    {
     "name": "stderr",
     "output_type": "stream",
     "text": [
      "2025/04/17 13:30:53 INFO mlflow.tracking._tracking_service.client: 🏃 View run puzzled-stag-385 at: https://mlops-lab4-262317540491.us-west2.run.app/#/experiments/2/runs/2afaf356bfe941b18f052cb7b6562801.\n",
      "\n",
      "2025/04/17 13:30:53 INFO mlflow.tracking._tracking_service.client: 🧪 View experiment at: https://mlops-lab4-262317540491.us-west2.run.app/#/experiments/2.\n",
      "\n"
     ]
    },
    {
     "name": "stdout",
     "output_type": "stream",
     "text": [
      " 72%|███████▏  | 36/50 [00:42<00:12,  1.11trial/s, best loss: -0.7703081232492996]"
     ]
    },
    {
     "name": "stderr",
     "output_type": "stream",
     "text": [
      "2025/04/17 13:30:54 INFO mlflow.tracking._tracking_service.client: 🏃 View run learned-stork-659 at: https://mlops-lab4-262317540491.us-west2.run.app/#/experiments/2/runs/35a3d3d1fce745e9870addab09aa5056.\n",
      "\n",
      "2025/04/17 13:30:54 INFO mlflow.tracking._tracking_service.client: 🧪 View experiment at: https://mlops-lab4-262317540491.us-west2.run.app/#/experiments/2.\n",
      "\n"
     ]
    },
    {
     "name": "stdout",
     "output_type": "stream",
     "text": [
      " 74%|███████▍  | 37/50 [00:42<00:12,  1.08trial/s, best loss: -0.7703081232492996]"
     ]
    },
    {
     "name": "stderr",
     "output_type": "stream",
     "text": [
      "2025/04/17 13:30:55 INFO mlflow.tracking._tracking_service.client: 🏃 View run blushing-rat-91 at: https://mlops-lab4-262317540491.us-west2.run.app/#/experiments/2/runs/2ceb08641a494fb1815d7b09a002b7c6.\n",
      "\n",
      "2025/04/17 13:30:55 INFO mlflow.tracking._tracking_service.client: 🧪 View experiment at: https://mlops-lab4-262317540491.us-west2.run.app/#/experiments/2.\n",
      "\n"
     ]
    },
    {
     "name": "stdout",
     "output_type": "stream",
     "text": [
      " 76%|███████▌  | 38/50 [00:43<00:11,  1.09trial/s, best loss: -0.7703081232492996]"
     ]
    },
    {
     "name": "stderr",
     "output_type": "stream",
     "text": [
      "2025/04/17 13:30:56 INFO mlflow.tracking._tracking_service.client: 🏃 View run vaunted-goat-700 at: https://mlops-lab4-262317540491.us-west2.run.app/#/experiments/2/runs/55d81906dcc347699ac12837f8c4acdf.\n",
      "\n",
      "2025/04/17 13:30:56 INFO mlflow.tracking._tracking_service.client: 🧪 View experiment at: https://mlops-lab4-262317540491.us-west2.run.app/#/experiments/2.\n",
      "\n"
     ]
    },
    {
     "name": "stdout",
     "output_type": "stream",
     "text": [
      " 78%|███████▊  | 39/50 [00:44<00:09,  1.11trial/s, best loss: -0.7703081232492996]"
     ]
    },
    {
     "name": "stderr",
     "output_type": "stream",
     "text": [
      "2025/04/17 13:30:57 INFO mlflow.tracking._tracking_service.client: 🏃 View run adventurous-worm-381 at: https://mlops-lab4-262317540491.us-west2.run.app/#/experiments/2/runs/9dde609f39ff4884ab4d9d34ac0ab902.\n",
      "\n",
      "2025/04/17 13:30:57 INFO mlflow.tracking._tracking_service.client: 🧪 View experiment at: https://mlops-lab4-262317540491.us-west2.run.app/#/experiments/2.\n",
      "\n"
     ]
    },
    {
     "name": "stdout",
     "output_type": "stream",
     "text": [
      " 80%|████████  | 40/50 [00:45<00:09,  1.08trial/s, best loss: -0.7703081232492996]"
     ]
    },
    {
     "name": "stderr",
     "output_type": "stream",
     "text": [
      "2025/04/17 13:30:58 INFO mlflow.tracking._tracking_service.client: 🏃 View run awesome-snail-204 at: https://mlops-lab4-262317540491.us-west2.run.app/#/experiments/2/runs/41afc9df0e5549c8b4fa9ceeb138f2c4.\n",
      "\n",
      "2025/04/17 13:30:58 INFO mlflow.tracking._tracking_service.client: 🧪 View experiment at: https://mlops-lab4-262317540491.us-west2.run.app/#/experiments/2.\n",
      "\n"
     ]
    },
    {
     "name": "stdout",
     "output_type": "stream",
     "text": [
      " 82%|████████▏ | 41/50 [00:46<00:08,  1.03trial/s, best loss: -0.7703081232492996]"
     ]
    },
    {
     "name": "stderr",
     "output_type": "stream",
     "text": [
      "2025/04/17 13:30:59 INFO mlflow.tracking._tracking_service.client: 🏃 View run puzzled-bass-667 at: https://mlops-lab4-262317540491.us-west2.run.app/#/experiments/2/runs/59a08643862f44cc8ce1a589dc4514a6.\n",
      "\n",
      "2025/04/17 13:30:59 INFO mlflow.tracking._tracking_service.client: 🧪 View experiment at: https://mlops-lab4-262317540491.us-west2.run.app/#/experiments/2.\n",
      "\n"
     ]
    },
    {
     "name": "stdout",
     "output_type": "stream",
     "text": [
      " 84%|████████▍ | 42/50 [00:47<00:07,  1.08trial/s, best loss: -0.7703081232492996]"
     ]
    },
    {
     "name": "stderr",
     "output_type": "stream",
     "text": [
      "2025/04/17 13:31:00 INFO mlflow.tracking._tracking_service.client: 🏃 View run fun-bat-481 at: https://mlops-lab4-262317540491.us-west2.run.app/#/experiments/2/runs/60f8f6fa6fba4f7e8a9aebbb1457498d.\n",
      "\n",
      "2025/04/17 13:31:00 INFO mlflow.tracking._tracking_service.client: 🧪 View experiment at: https://mlops-lab4-262317540491.us-west2.run.app/#/experiments/2.\n",
      "\n"
     ]
    },
    {
     "name": "stdout",
     "output_type": "stream",
     "text": [
      " 86%|████████▌ | 43/50 [00:49<00:07,  1.06s/trial, best loss: -0.7703081232492996]"
     ]
    },
    {
     "name": "stderr",
     "output_type": "stream",
     "text": [
      "2025/04/17 13:31:02 INFO mlflow.tracking._tracking_service.client: 🏃 View run wise-steed-8 at: https://mlops-lab4-262317540491.us-west2.run.app/#/experiments/2/runs/394996b1898e408e858b957c8831fde7.\n",
      "\n",
      "2025/04/17 13:31:02 INFO mlflow.tracking._tracking_service.client: 🧪 View experiment at: https://mlops-lab4-262317540491.us-west2.run.app/#/experiments/2.\n",
      "\n"
     ]
    },
    {
     "name": "stdout",
     "output_type": "stream",
     "text": [
      " 88%|████████▊ | 44/50 [00:50<00:06,  1.11s/trial, best loss: -0.7703081232492996]"
     ]
    },
    {
     "name": "stderr",
     "output_type": "stream",
     "text": [
      "2025/04/17 13:31:03 INFO mlflow.tracking._tracking_service.client: 🏃 View run tasteful-moth-593 at: https://mlops-lab4-262317540491.us-west2.run.app/#/experiments/2/runs/2071e845c7a44b7f900ace1e686fa302.\n",
      "\n",
      "2025/04/17 13:31:03 INFO mlflow.tracking._tracking_service.client: 🧪 View experiment at: https://mlops-lab4-262317540491.us-west2.run.app/#/experiments/2.\n",
      "\n"
     ]
    },
    {
     "name": "stdout",
     "output_type": "stream",
     "text": [
      " 90%|█████████ | 45/50 [00:51<00:05,  1.08s/trial, best loss: -0.7703081232492996]"
     ]
    },
    {
     "name": "stderr",
     "output_type": "stream",
     "text": [
      "2025/04/17 13:31:04 INFO mlflow.tracking._tracking_service.client: 🏃 View run bouncy-perch-255 at: https://mlops-lab4-262317540491.us-west2.run.app/#/experiments/2/runs/e840826ce6414c3cb6de010559775185.\n",
      "\n",
      "2025/04/17 13:31:04 INFO mlflow.tracking._tracking_service.client: 🧪 View experiment at: https://mlops-lab4-262317540491.us-west2.run.app/#/experiments/2.\n",
      "\n"
     ]
    },
    {
     "name": "stdout",
     "output_type": "stream",
     "text": [
      " 92%|█████████▏| 46/50 [00:52<00:04,  1.07s/trial, best loss: -0.7703081232492996]"
     ]
    },
    {
     "name": "stderr",
     "output_type": "stream",
     "text": [
      "2025/04/17 13:31:05 INFO mlflow.tracking._tracking_service.client: 🏃 View run overjoyed-yak-544 at: https://mlops-lab4-262317540491.us-west2.run.app/#/experiments/2/runs/b1dad483cc454d369f60c1b06c88426b.\n",
      "\n",
      "2025/04/17 13:31:05 INFO mlflow.tracking._tracking_service.client: 🧪 View experiment at: https://mlops-lab4-262317540491.us-west2.run.app/#/experiments/2.\n",
      "\n"
     ]
    },
    {
     "name": "stdout",
     "output_type": "stream",
     "text": [
      " 94%|█████████▍| 47/50 [00:53<00:03,  1.02s/trial, best loss: -0.7703081232492996]"
     ]
    },
    {
     "name": "stderr",
     "output_type": "stream",
     "text": [
      "2025/04/17 13:31:05 INFO mlflow.tracking._tracking_service.client: 🏃 View run unique-mule-16 at: https://mlops-lab4-262317540491.us-west2.run.app/#/experiments/2/runs/e3ff2ecda55049e1bad49a0e60140d98.\n",
      "\n",
      "2025/04/17 13:31:05 INFO mlflow.tracking._tracking_service.client: 🧪 View experiment at: https://mlops-lab4-262317540491.us-west2.run.app/#/experiments/2.\n",
      "\n"
     ]
    },
    {
     "name": "stdout",
     "output_type": "stream",
     "text": [
      " 96%|█████████▌| 48/50 [00:54<00:01,  1.04trial/s, best loss: -0.7703081232492996]"
     ]
    },
    {
     "name": "stderr",
     "output_type": "stream",
     "text": [
      "2025/04/17 13:31:07 INFO mlflow.tracking._tracking_service.client: 🏃 View run amusing-jay-631 at: https://mlops-lab4-262317540491.us-west2.run.app/#/experiments/2/runs/6e6d83c6e80d4f828c5c0e6efd9cb3e1.\n",
      "\n",
      "2025/04/17 13:31:07 INFO mlflow.tracking._tracking_service.client: 🧪 View experiment at: https://mlops-lab4-262317540491.us-west2.run.app/#/experiments/2.\n",
      "\n"
     ]
    },
    {
     "name": "stdout",
     "output_type": "stream",
     "text": [
      " 98%|█████████▊| 49/50 [00:55<00:01,  1.07s/trial, best loss: -0.7703081232492996]"
     ]
    },
    {
     "name": "stderr",
     "output_type": "stream",
     "text": [
      "2025/04/17 13:31:08 INFO mlflow.tracking._tracking_service.client: 🏃 View run omniscient-shoat-696 at: https://mlops-lab4-262317540491.us-west2.run.app/#/experiments/2/runs/0ff140e9bc65481cb9b9e4b05c0fd653.\n",
      "\n",
      "2025/04/17 13:31:08 INFO mlflow.tracking._tracking_service.client: 🧪 View experiment at: https://mlops-lab4-262317540491.us-west2.run.app/#/experiments/2.\n",
      "\n"
     ]
    },
    {
     "name": "stdout",
     "output_type": "stream",
     "text": [
      "100%|██████████| 50/50 [00:56<00:00,  1.12s/trial, best loss: -0.7703081232492996]\n",
      "Training best RF with score: 0.7647\n",
      "Training best XGB with score: 0.7647\n",
      "Training best LOGREG with score: 0.7703\n"
     ]
    },
    {
     "name": "stderr",
     "output_type": "stream",
     "text": [
      "2025/04/17 13:31:12 WARNING mlflow.models.model: Input example should be provided to infer model signature if the model signature is not provided when logging the model.\n",
      "2025/04/17 13:31:13 INFO mlflow.tracking._tracking_service.client: 🏃 View run final_rf at: https://mlops-lab4-262317540491.us-west2.run.app/#/experiments/2/runs/3ed0ce46e19d49d4ab4568e27ba6d6a3.\n",
      "2025/04/17 13:31:13 INFO mlflow.tracking._tracking_service.client: 🧪 View experiment at: https://mlops-lab4-262317540491.us-west2.run.app/#/experiments/2.\n",
      "2025/04/17 13:31:15 WARNING mlflow.models.model: Input example should be provided to infer model signature if the model signature is not provided when logging the model.\n",
      "2025/04/17 13:31:15 INFO mlflow.tracking._tracking_service.client: 🏃 View run final_xgb at: https://mlops-lab4-262317540491.us-west2.run.app/#/experiments/2/runs/92ded4232de54b4d9f792e01ccb266ee.\n",
      "2025/04/17 13:31:15 INFO mlflow.tracking._tracking_service.client: 🧪 View experiment at: https://mlops-lab4-262317540491.us-west2.run.app/#/experiments/2.\n",
      "2025/04/17 13:31:18 WARNING mlflow.models.model: Input example should be provided to infer model signature if the model signature is not provided when logging the model.\n",
      "2025/04/17 13:31:18 INFO mlflow.tracking._tracking_service.client: 🏃 View run final_logreg at: https://mlops-lab4-262317540491.us-west2.run.app/#/experiments/2/runs/cc022ed50c3d4e74bba4f59094e8d2e3.\n",
      "2025/04/17 13:31:18 INFO mlflow.tracking._tracking_service.client: 🧪 View experiment at: https://mlops-lab4-262317540491.us-west2.run.app/#/experiments/2.\n"
     ]
    }
   ],
   "source": [
    "from hyperopt import fmin, tpe, hp, STATUS_OK, Trials\n",
    "from sklearn.model_selection import cross_val_score, train_test_split\n",
    "from sklearn.ensemble import RandomForestClassifier\n",
    "from sklearn.linear_model import LogisticRegression\n",
    "from xgboost import XGBClassifier\n",
    "import mlflow\n",
    "import mlflow.sklearn\n",
    "import warnings\n",
    "warnings.filterwarnings(\"ignore\")\n",
    "\n",
    "mlflow.set_experiment('yelp-lab-2-best-models-final')\n",
    "\n",
    "# Train-test split\n",
    "X_train, X_test, y_train, y_test = train_test_split(X, y, stratify=y, random_state=42)\n",
    "\n",
    "from collections import defaultdict\n",
    "\n",
    "# Store best results for each type\n",
    "best_models = {\n",
    "    'rf': {'score': -1, 'params': None},\n",
    "    'xgb': {'score': -1, 'params': None},\n",
    "    'logreg': {'score': -1, 'params': None}\n",
    "}\n",
    "\n",
    "def objective(params):\n",
    "    classifier_type = params['type']\n",
    "    del params['type']\n",
    "\n",
    "    with mlflow.start_run():\n",
    "        if classifier_type == 'rf':\n",
    "            clf = RandomForestClassifier(**params, random_state=42)\n",
    "        elif classifier_type == 'xgb':\n",
    "            clf = XGBClassifier(use_label_encoder=False, eval_metric='logloss', **params)\n",
    "        elif classifier_type == 'logreg':\n",
    "            clf = LogisticRegression(penalty='l1', solver='liblinear', **params)\n",
    "        else:\n",
    "            return {'loss': 1, 'status': STATUS_OK}\n",
    "\n",
    "        acc = cross_val_score(clf, X_train, y_train, cv=3, scoring='accuracy').mean()\n",
    "\n",
    "\n",
    "        train_df = pd.concat([X_train.reset_index(drop=True), pd.Series(y_train, name=\"target\")], axis=1)\n",
    "        test_df = pd.concat([X_test.reset_index(drop=True), pd.Series(y_test, name=\"target\")], axis=1)\n",
    "        \n",
    "        # Save datasets\n",
    "        train_df.to_csv(\"train_data.csv\", index=False)\n",
    "        test_df.to_csv(\"test_data.csv\", index=False)\n",
    "\n",
    "        # Log datasets\n",
    "        mlflow.log_artifact(\"train_data.csv\", artifact_path=\"data\")\n",
    "        mlflow.log_artifact(\"test_data.csv\", artifact_path=\"data\")\n",
    "\n",
    "        # Log to MLflow\n",
    "        mlflow.set_tag(\"Model\", classifier_type)\n",
    "        mlflow.log_params(params)\n",
    "        mlflow.log_metric(\"accuracy\", acc)\n",
    "\n",
    "        # Track best per model type\n",
    "        if acc > best_models[classifier_type]['score']:\n",
    "            best_models[classifier_type]['score'] = acc\n",
    "            best_models[classifier_type]['params'] = params.copy()\n",
    "\n",
    "        return {'loss': -acc, 'status': STATUS_OK}\n",
    "\n",
    "\n",
    "# Hyperparameter search space\n",
    "search_space = hp.choice('classifier_type', [\n",
    "\n",
    "    # Random Forest\n",
    "    {\n",
    "        'type': 'rf',\n",
    "        'n_estimators': hp.randint('rf_n_estimators', 50, 300),\n",
    "        'max_depth': hp.choice('rf_max_depth', [None, 5, 10, 20]),\n",
    "        'max_features': hp.choice('rf_max_features', ['sqrt', 'log2']),\n",
    "        'class_weight': hp.choice('rf_class_weight', [None, 'balanced']),\n",
    "    },\n",
    "\n",
    "    # Logistic Regression (Lasso)\n",
    "    {\n",
    "        'type': 'logreg',\n",
    "        'C': hp.loguniform('logreg_C', -4, 2),  # inverse of regularization strength\n",
    "        'fit_intercept': hp.choice('logreg_intercept', [True, False])\n",
    "    },\n",
    "\n",
    "    # XGBoost\n",
    "    {\n",
    "        'type': 'xgb',\n",
    "        'n_estimators': hp.randint('xgb_n_estimators', 50, 300),\n",
    "        'max_depth': hp.choice('xgb_max_depth', [3, 5, 7, 10]),\n",
    "        'learning_rate': hp.loguniform('xgb_lr', -4, 0),  # ~0.018 to 1.0\n",
    "        'subsample': hp.uniform('xgb_subsample', 0.6, 1.0),\n",
    "        'colsample_bytree': hp.uniform('xgb_colsample', 0.6, 1.0),\n",
    "    }\n",
    "])\n",
    "\n",
    "# Run optimization\n",
    "trials = Trials()\n",
    "best_result = fmin(\n",
    "    fn=objective,\n",
    "    space=search_space,\n",
    "    algo=tpe.suggest,\n",
    "    max_evals=50,\n",
    "    trials=trials,\n",
    "    rstate=np.random.default_rng(42)\n",
    ")\n",
    "\n",
    "final_models = {}\n",
    "\n",
    "for model_type, info in best_models.items():\n",
    "    if info['params'] is None:\n",
    "        continue  # No good trial for this type\n",
    "\n",
    "    print(f\"Training best {model_type.upper()} with score: {info['score']:.4f}\")\n",
    "\n",
    "    if model_type == 'rf':\n",
    "        final_models['rf'] = RandomForestClassifier(**info['params'], random_state=42).fit(X_train, y_train)\n",
    "    elif model_type == 'xgb':\n",
    "        final_models['xgb'] = XGBClassifier(use_label_encoder=False, eval_metric='logloss', **info['params']).fit(X_train, y_train)\n",
    "    elif model_type == 'logreg':\n",
    "        final_models['logreg'] = LogisticRegression(penalty='l1', solver='liblinear', **info['params']).fit(X_train, y_train)\n",
    "\n",
    "from sklearn.metrics import accuracy_score\n",
    "\n",
    "# Log final models to MLflow\n",
    "for model_type, model in final_models.items():\n",
    "    y_pred = model.predict(X_test)\n",
    "    acc = accuracy_score(y_test, y_pred)\n",
    "\n",
    "    with mlflow.start_run(run_name=f\"final_{model_type}\"):\n",
    "        mlflow.set_tag(\"Model\", f\"{model_type}_final\")\n",
    "        mlflow.log_params(best_models[model_type]['params'])\n",
    "        mlflow.log_metric(\"final_test_accuracy\", acc)\n",
    "        mlflow.sklearn.log_model(model, artifact_path=f\"{model_type}_final_model\")"
   ]
  },
  {
   "cell_type": "code",
   "execution_count": 23,
   "metadata": {},
   "outputs": [
    {
     "name": "stderr",
     "output_type": "stream",
     "text": [
      "Registered model 'boba_logreg' already exists. Creating a new version of this model...\n",
      "2025/04/17 13:32:48 INFO mlflow.store.model_registry.abstract_store: Waiting up to 300 seconds for model version to finish creation. Model name: boba_logreg, version 1\n",
      "Created version '1' of model 'boba_logreg'.\n"
     ]
    }
   ],
   "source": [
    "runid = 'cc022ed50c3d4e74bba4f59094e8d2e3'\n",
    "mod_path = f'runs:/{runid}/logreg_final_model'\n",
    "registered_model = mlflow.register_model(model_uri = mod_path, name = 'boba_logreg')"
   ]
  },
  {
   "cell_type": "code",
   "execution_count": 24,
   "metadata": {},
   "outputs": [
    {
     "data": {
      "text/plain": [
       "<ModelVersion: aliases=[], creation_timestamp=1744921968834, current_stage='Staging', description='', last_updated_timestamp=1744921974081, name='boba_logreg', run_id='cc022ed50c3d4e74bba4f59094e8d2e3', run_link='', source='mlflow-artifacts:/2/cc022ed50c3d4e74bba4f59094e8d2e3/artifacts/logreg_final_model', status='READY', status_message='', tags={}, user_id='', version='1'>"
      ]
     },
     "execution_count": 24,
     "metadata": {},
     "output_type": "execute_result"
    }
   ],
   "source": [
    "from mlflow.tracking import MlflowClient\n",
    "\n",
    "client = MlflowClient()\n",
    "\n",
    "client.transition_model_version_stage(\n",
    "    name=\"boba_logreg\",\n",
    "    version=registered_model.version,\n",
    "    stage=\"Staging\"\n",
    ")\n"
   ]
  },
  {
   "cell_type": "code",
   "execution_count": 25,
   "metadata": {},
   "outputs": [
    {
     "name": "stderr",
     "output_type": "stream",
     "text": [
      "Downloading artifacts: 100%|██████████| 5/5 [00:00<00:00,  8.89it/s]\n",
      "Downloading artifacts: 100%|██████████| 5/5 [00:00<00:00,  8.94it/s]\n"
     ]
    },
    {
     "data": {
      "text/html": [
       "<style>#sk-container-id-1 {\n",
       "  /* Definition of color scheme common for light and dark mode */\n",
       "  --sklearn-color-text: black;\n",
       "  --sklearn-color-line: gray;\n",
       "  /* Definition of color scheme for unfitted estimators */\n",
       "  --sklearn-color-unfitted-level-0: #fff5e6;\n",
       "  --sklearn-color-unfitted-level-1: #f6e4d2;\n",
       "  --sklearn-color-unfitted-level-2: #ffe0b3;\n",
       "  --sklearn-color-unfitted-level-3: chocolate;\n",
       "  /* Definition of color scheme for fitted estimators */\n",
       "  --sklearn-color-fitted-level-0: #f0f8ff;\n",
       "  --sklearn-color-fitted-level-1: #d4ebff;\n",
       "  --sklearn-color-fitted-level-2: #b3dbfd;\n",
       "  --sklearn-color-fitted-level-3: cornflowerblue;\n",
       "\n",
       "  /* Specific color for light theme */\n",
       "  --sklearn-color-text-on-default-background: var(--sg-text-color, var(--theme-code-foreground, var(--jp-content-font-color1, black)));\n",
       "  --sklearn-color-background: var(--sg-background-color, var(--theme-background, var(--jp-layout-color0, white)));\n",
       "  --sklearn-color-border-box: var(--sg-text-color, var(--theme-code-foreground, var(--jp-content-font-color1, black)));\n",
       "  --sklearn-color-icon: #696969;\n",
       "\n",
       "  @media (prefers-color-scheme: dark) {\n",
       "    /* Redefinition of color scheme for dark theme */\n",
       "    --sklearn-color-text-on-default-background: var(--sg-text-color, var(--theme-code-foreground, var(--jp-content-font-color1, white)));\n",
       "    --sklearn-color-background: var(--sg-background-color, var(--theme-background, var(--jp-layout-color0, #111)));\n",
       "    --sklearn-color-border-box: var(--sg-text-color, var(--theme-code-foreground, var(--jp-content-font-color1, white)));\n",
       "    --sklearn-color-icon: #878787;\n",
       "  }\n",
       "}\n",
       "\n",
       "#sk-container-id-1 {\n",
       "  color: var(--sklearn-color-text);\n",
       "}\n",
       "\n",
       "#sk-container-id-1 pre {\n",
       "  padding: 0;\n",
       "}\n",
       "\n",
       "#sk-container-id-1 input.sk-hidden--visually {\n",
       "  border: 0;\n",
       "  clip: rect(1px 1px 1px 1px);\n",
       "  clip: rect(1px, 1px, 1px, 1px);\n",
       "  height: 1px;\n",
       "  margin: -1px;\n",
       "  overflow: hidden;\n",
       "  padding: 0;\n",
       "  position: absolute;\n",
       "  width: 1px;\n",
       "}\n",
       "\n",
       "#sk-container-id-1 div.sk-dashed-wrapped {\n",
       "  border: 1px dashed var(--sklearn-color-line);\n",
       "  margin: 0 0.4em 0.5em 0.4em;\n",
       "  box-sizing: border-box;\n",
       "  padding-bottom: 0.4em;\n",
       "  background-color: var(--sklearn-color-background);\n",
       "}\n",
       "\n",
       "#sk-container-id-1 div.sk-container {\n",
       "  /* jupyter's `normalize.less` sets `[hidden] { display: none; }`\n",
       "     but bootstrap.min.css set `[hidden] { display: none !important; }`\n",
       "     so we also need the `!important` here to be able to override the\n",
       "     default hidden behavior on the sphinx rendered scikit-learn.org.\n",
       "     See: https://github.com/scikit-learn/scikit-learn/issues/21755 */\n",
       "  display: inline-block !important;\n",
       "  position: relative;\n",
       "}\n",
       "\n",
       "#sk-container-id-1 div.sk-text-repr-fallback {\n",
       "  display: none;\n",
       "}\n",
       "\n",
       "div.sk-parallel-item,\n",
       "div.sk-serial,\n",
       "div.sk-item {\n",
       "  /* draw centered vertical line to link estimators */\n",
       "  background-image: linear-gradient(var(--sklearn-color-text-on-default-background), var(--sklearn-color-text-on-default-background));\n",
       "  background-size: 2px 100%;\n",
       "  background-repeat: no-repeat;\n",
       "  background-position: center center;\n",
       "}\n",
       "\n",
       "/* Parallel-specific style estimator block */\n",
       "\n",
       "#sk-container-id-1 div.sk-parallel-item::after {\n",
       "  content: \"\";\n",
       "  width: 100%;\n",
       "  border-bottom: 2px solid var(--sklearn-color-text-on-default-background);\n",
       "  flex-grow: 1;\n",
       "}\n",
       "\n",
       "#sk-container-id-1 div.sk-parallel {\n",
       "  display: flex;\n",
       "  align-items: stretch;\n",
       "  justify-content: center;\n",
       "  background-color: var(--sklearn-color-background);\n",
       "  position: relative;\n",
       "}\n",
       "\n",
       "#sk-container-id-1 div.sk-parallel-item {\n",
       "  display: flex;\n",
       "  flex-direction: column;\n",
       "}\n",
       "\n",
       "#sk-container-id-1 div.sk-parallel-item:first-child::after {\n",
       "  align-self: flex-end;\n",
       "  width: 50%;\n",
       "}\n",
       "\n",
       "#sk-container-id-1 div.sk-parallel-item:last-child::after {\n",
       "  align-self: flex-start;\n",
       "  width: 50%;\n",
       "}\n",
       "\n",
       "#sk-container-id-1 div.sk-parallel-item:only-child::after {\n",
       "  width: 0;\n",
       "}\n",
       "\n",
       "/* Serial-specific style estimator block */\n",
       "\n",
       "#sk-container-id-1 div.sk-serial {\n",
       "  display: flex;\n",
       "  flex-direction: column;\n",
       "  align-items: center;\n",
       "  background-color: var(--sklearn-color-background);\n",
       "  padding-right: 1em;\n",
       "  padding-left: 1em;\n",
       "}\n",
       "\n",
       "\n",
       "/* Toggleable style: style used for estimator/Pipeline/ColumnTransformer box that is\n",
       "clickable and can be expanded/collapsed.\n",
       "- Pipeline and ColumnTransformer use this feature and define the default style\n",
       "- Estimators will overwrite some part of the style using the `sk-estimator` class\n",
       "*/\n",
       "\n",
       "/* Pipeline and ColumnTransformer style (default) */\n",
       "\n",
       "#sk-container-id-1 div.sk-toggleable {\n",
       "  /* Default theme specific background. It is overwritten whether we have a\n",
       "  specific estimator or a Pipeline/ColumnTransformer */\n",
       "  background-color: var(--sklearn-color-background);\n",
       "}\n",
       "\n",
       "/* Toggleable label */\n",
       "#sk-container-id-1 label.sk-toggleable__label {\n",
       "  cursor: pointer;\n",
       "  display: block;\n",
       "  width: 100%;\n",
       "  margin-bottom: 0;\n",
       "  padding: 0.5em;\n",
       "  box-sizing: border-box;\n",
       "  text-align: center;\n",
       "}\n",
       "\n",
       "#sk-container-id-1 label.sk-toggleable__label-arrow:before {\n",
       "  /* Arrow on the left of the label */\n",
       "  content: \"▸\";\n",
       "  float: left;\n",
       "  margin-right: 0.25em;\n",
       "  color: var(--sklearn-color-icon);\n",
       "}\n",
       "\n",
       "#sk-container-id-1 label.sk-toggleable__label-arrow:hover:before {\n",
       "  color: var(--sklearn-color-text);\n",
       "}\n",
       "\n",
       "/* Toggleable content - dropdown */\n",
       "\n",
       "#sk-container-id-1 div.sk-toggleable__content {\n",
       "  max-height: 0;\n",
       "  max-width: 0;\n",
       "  overflow: hidden;\n",
       "  text-align: left;\n",
       "  /* unfitted */\n",
       "  background-color: var(--sklearn-color-unfitted-level-0);\n",
       "}\n",
       "\n",
       "#sk-container-id-1 div.sk-toggleable__content.fitted {\n",
       "  /* fitted */\n",
       "  background-color: var(--sklearn-color-fitted-level-0);\n",
       "}\n",
       "\n",
       "#sk-container-id-1 div.sk-toggleable__content pre {\n",
       "  margin: 0.2em;\n",
       "  border-radius: 0.25em;\n",
       "  color: var(--sklearn-color-text);\n",
       "  /* unfitted */\n",
       "  background-color: var(--sklearn-color-unfitted-level-0);\n",
       "}\n",
       "\n",
       "#sk-container-id-1 div.sk-toggleable__content.fitted pre {\n",
       "  /* unfitted */\n",
       "  background-color: var(--sklearn-color-fitted-level-0);\n",
       "}\n",
       "\n",
       "#sk-container-id-1 input.sk-toggleable__control:checked~div.sk-toggleable__content {\n",
       "  /* Expand drop-down */\n",
       "  max-height: 200px;\n",
       "  max-width: 100%;\n",
       "  overflow: auto;\n",
       "}\n",
       "\n",
       "#sk-container-id-1 input.sk-toggleable__control:checked~label.sk-toggleable__label-arrow:before {\n",
       "  content: \"▾\";\n",
       "}\n",
       "\n",
       "/* Pipeline/ColumnTransformer-specific style */\n",
       "\n",
       "#sk-container-id-1 div.sk-label input.sk-toggleable__control:checked~label.sk-toggleable__label {\n",
       "  color: var(--sklearn-color-text);\n",
       "  background-color: var(--sklearn-color-unfitted-level-2);\n",
       "}\n",
       "\n",
       "#sk-container-id-1 div.sk-label.fitted input.sk-toggleable__control:checked~label.sk-toggleable__label {\n",
       "  background-color: var(--sklearn-color-fitted-level-2);\n",
       "}\n",
       "\n",
       "/* Estimator-specific style */\n",
       "\n",
       "/* Colorize estimator box */\n",
       "#sk-container-id-1 div.sk-estimator input.sk-toggleable__control:checked~label.sk-toggleable__label {\n",
       "  /* unfitted */\n",
       "  background-color: var(--sklearn-color-unfitted-level-2);\n",
       "}\n",
       "\n",
       "#sk-container-id-1 div.sk-estimator.fitted input.sk-toggleable__control:checked~label.sk-toggleable__label {\n",
       "  /* fitted */\n",
       "  background-color: var(--sklearn-color-fitted-level-2);\n",
       "}\n",
       "\n",
       "#sk-container-id-1 div.sk-label label.sk-toggleable__label,\n",
       "#sk-container-id-1 div.sk-label label {\n",
       "  /* The background is the default theme color */\n",
       "  color: var(--sklearn-color-text-on-default-background);\n",
       "}\n",
       "\n",
       "/* On hover, darken the color of the background */\n",
       "#sk-container-id-1 div.sk-label:hover label.sk-toggleable__label {\n",
       "  color: var(--sklearn-color-text);\n",
       "  background-color: var(--sklearn-color-unfitted-level-2);\n",
       "}\n",
       "\n",
       "/* Label box, darken color on hover, fitted */\n",
       "#sk-container-id-1 div.sk-label.fitted:hover label.sk-toggleable__label.fitted {\n",
       "  color: var(--sklearn-color-text);\n",
       "  background-color: var(--sklearn-color-fitted-level-2);\n",
       "}\n",
       "\n",
       "/* Estimator label */\n",
       "\n",
       "#sk-container-id-1 div.sk-label label {\n",
       "  font-family: monospace;\n",
       "  font-weight: bold;\n",
       "  display: inline-block;\n",
       "  line-height: 1.2em;\n",
       "}\n",
       "\n",
       "#sk-container-id-1 div.sk-label-container {\n",
       "  text-align: center;\n",
       "}\n",
       "\n",
       "/* Estimator-specific */\n",
       "#sk-container-id-1 div.sk-estimator {\n",
       "  font-family: monospace;\n",
       "  border: 1px dotted var(--sklearn-color-border-box);\n",
       "  border-radius: 0.25em;\n",
       "  box-sizing: border-box;\n",
       "  margin-bottom: 0.5em;\n",
       "  /* unfitted */\n",
       "  background-color: var(--sklearn-color-unfitted-level-0);\n",
       "}\n",
       "\n",
       "#sk-container-id-1 div.sk-estimator.fitted {\n",
       "  /* fitted */\n",
       "  background-color: var(--sklearn-color-fitted-level-0);\n",
       "}\n",
       "\n",
       "/* on hover */\n",
       "#sk-container-id-1 div.sk-estimator:hover {\n",
       "  /* unfitted */\n",
       "  background-color: var(--sklearn-color-unfitted-level-2);\n",
       "}\n",
       "\n",
       "#sk-container-id-1 div.sk-estimator.fitted:hover {\n",
       "  /* fitted */\n",
       "  background-color: var(--sklearn-color-fitted-level-2);\n",
       "}\n",
       "\n",
       "/* Specification for estimator info (e.g. \"i\" and \"?\") */\n",
       "\n",
       "/* Common style for \"i\" and \"?\" */\n",
       "\n",
       ".sk-estimator-doc-link,\n",
       "a:link.sk-estimator-doc-link,\n",
       "a:visited.sk-estimator-doc-link {\n",
       "  float: right;\n",
       "  font-size: smaller;\n",
       "  line-height: 1em;\n",
       "  font-family: monospace;\n",
       "  background-color: var(--sklearn-color-background);\n",
       "  border-radius: 1em;\n",
       "  height: 1em;\n",
       "  width: 1em;\n",
       "  text-decoration: none !important;\n",
       "  margin-left: 1ex;\n",
       "  /* unfitted */\n",
       "  border: var(--sklearn-color-unfitted-level-1) 1pt solid;\n",
       "  color: var(--sklearn-color-unfitted-level-1);\n",
       "}\n",
       "\n",
       ".sk-estimator-doc-link.fitted,\n",
       "a:link.sk-estimator-doc-link.fitted,\n",
       "a:visited.sk-estimator-doc-link.fitted {\n",
       "  /* fitted */\n",
       "  border: var(--sklearn-color-fitted-level-1) 1pt solid;\n",
       "  color: var(--sklearn-color-fitted-level-1);\n",
       "}\n",
       "\n",
       "/* On hover */\n",
       "div.sk-estimator:hover .sk-estimator-doc-link:hover,\n",
       ".sk-estimator-doc-link:hover,\n",
       "div.sk-label-container:hover .sk-estimator-doc-link:hover,\n",
       ".sk-estimator-doc-link:hover {\n",
       "  /* unfitted */\n",
       "  background-color: var(--sklearn-color-unfitted-level-3);\n",
       "  color: var(--sklearn-color-background);\n",
       "  text-decoration: none;\n",
       "}\n",
       "\n",
       "div.sk-estimator.fitted:hover .sk-estimator-doc-link.fitted:hover,\n",
       ".sk-estimator-doc-link.fitted:hover,\n",
       "div.sk-label-container:hover .sk-estimator-doc-link.fitted:hover,\n",
       ".sk-estimator-doc-link.fitted:hover {\n",
       "  /* fitted */\n",
       "  background-color: var(--sklearn-color-fitted-level-3);\n",
       "  color: var(--sklearn-color-background);\n",
       "  text-decoration: none;\n",
       "}\n",
       "\n",
       "/* Span, style for the box shown on hovering the info icon */\n",
       ".sk-estimator-doc-link span {\n",
       "  display: none;\n",
       "  z-index: 9999;\n",
       "  position: relative;\n",
       "  font-weight: normal;\n",
       "  right: .2ex;\n",
       "  padding: .5ex;\n",
       "  margin: .5ex;\n",
       "  width: min-content;\n",
       "  min-width: 20ex;\n",
       "  max-width: 50ex;\n",
       "  color: var(--sklearn-color-text);\n",
       "  box-shadow: 2pt 2pt 4pt #999;\n",
       "  /* unfitted */\n",
       "  background: var(--sklearn-color-unfitted-level-0);\n",
       "  border: .5pt solid var(--sklearn-color-unfitted-level-3);\n",
       "}\n",
       "\n",
       ".sk-estimator-doc-link.fitted span {\n",
       "  /* fitted */\n",
       "  background: var(--sklearn-color-fitted-level-0);\n",
       "  border: var(--sklearn-color-fitted-level-3);\n",
       "}\n",
       "\n",
       ".sk-estimator-doc-link:hover span {\n",
       "  display: block;\n",
       "}\n",
       "\n",
       "/* \"?\"-specific style due to the `<a>` HTML tag */\n",
       "\n",
       "#sk-container-id-1 a.estimator_doc_link {\n",
       "  float: right;\n",
       "  font-size: 1rem;\n",
       "  line-height: 1em;\n",
       "  font-family: monospace;\n",
       "  background-color: var(--sklearn-color-background);\n",
       "  border-radius: 1rem;\n",
       "  height: 1rem;\n",
       "  width: 1rem;\n",
       "  text-decoration: none;\n",
       "  /* unfitted */\n",
       "  color: var(--sklearn-color-unfitted-level-1);\n",
       "  border: var(--sklearn-color-unfitted-level-1) 1pt solid;\n",
       "}\n",
       "\n",
       "#sk-container-id-1 a.estimator_doc_link.fitted {\n",
       "  /* fitted */\n",
       "  border: var(--sklearn-color-fitted-level-1) 1pt solid;\n",
       "  color: var(--sklearn-color-fitted-level-1);\n",
       "}\n",
       "\n",
       "/* On hover */\n",
       "#sk-container-id-1 a.estimator_doc_link:hover {\n",
       "  /* unfitted */\n",
       "  background-color: var(--sklearn-color-unfitted-level-3);\n",
       "  color: var(--sklearn-color-background);\n",
       "  text-decoration: none;\n",
       "}\n",
       "\n",
       "#sk-container-id-1 a.estimator_doc_link.fitted:hover {\n",
       "  /* fitted */\n",
       "  background-color: var(--sklearn-color-fitted-level-3);\n",
       "}\n",
       "</style><div id=\"sk-container-id-1\" class=\"sk-top-container\"><div class=\"sk-text-repr-fallback\"><pre>LogisticRegression(C=1.4028648574289304, penalty=&#x27;l1&#x27;, solver=&#x27;liblinear&#x27;)</pre><b>In a Jupyter environment, please rerun this cell to show the HTML representation or trust the notebook. <br />On GitHub, the HTML representation is unable to render, please try loading this page with nbviewer.org.</b></div><div class=\"sk-container\" hidden><div class=\"sk-item\"><div class=\"sk-estimator fitted sk-toggleable\"><input class=\"sk-toggleable__control sk-hidden--visually\" id=\"sk-estimator-id-1\" type=\"checkbox\" checked><label for=\"sk-estimator-id-1\" class=\"sk-toggleable__label fitted sk-toggleable__label-arrow fitted\">&nbsp;&nbsp;LogisticRegression<a class=\"sk-estimator-doc-link fitted\" rel=\"noreferrer\" target=\"_blank\" href=\"https://scikit-learn.org/1.5/modules/generated/sklearn.linear_model.LogisticRegression.html\">?<span>Documentation for LogisticRegression</span></a><span class=\"sk-estimator-doc-link fitted\">i<span>Fitted</span></span></label><div class=\"sk-toggleable__content fitted\"><pre>LogisticRegression(C=1.4028648574289304, penalty=&#x27;l1&#x27;, solver=&#x27;liblinear&#x27;)</pre></div> </div></div></div></div>"
      ],
      "text/plain": [
       "LogisticRegression(C=1.4028648574289304, penalty='l1', solver='liblinear')"
      ]
     },
     "execution_count": 25,
     "metadata": {},
     "output_type": "execute_result"
    }
   ],
   "source": [
    "logged_model = 'models:/boba_logreg/Staging' #replace with one of your models\n",
    "\n",
    "# Load model as a PyFuncModel.\n",
    "loaded_model = mlflow.pyfunc.load_model(logged_model)\n",
    "sklearn_model = mlflow.sklearn.load_model(logged_model)\n",
    "sklearn_model"
   ]
  }
 ],
 "metadata": {
  "kernelspec": {
   "display_name": "mlops",
   "language": "python",
   "name": "python3"
  },
  "language_info": {
   "codemirror_mode": {
    "name": "ipython",
    "version": 3
   },
   "file_extension": ".py",
   "mimetype": "text/x-python",
   "name": "python",
   "nbconvert_exporter": "python",
   "pygments_lexer": "ipython3",
   "version": "3.12.9"
  }
 },
 "nbformat": 4,
 "nbformat_minor": 2
}
